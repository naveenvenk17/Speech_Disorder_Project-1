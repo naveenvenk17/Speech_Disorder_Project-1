{
  "nbformat": 4,
  "nbformat_minor": 0,
  "metadata": {
    "kernelspec": {
      "display_name": "Python 3",
      "language": "python",
      "name": "python3"
    },
    "language_info": {
      "codemirror_mode": {
        "name": "ipython",
        "version": 3
      },
      "file_extension": ".py",
      "mimetype": "text/x-python",
      "name": "python",
      "nbconvert_exporter": "python",
      "pygments_lexer": "ipython3",
      "version": "3.7.3"
    },
    "colab": {
      "name": "parkinsons-data-exploration.ipynb",
      "provenance": [],
      "collapsed_sections": []
    }
  },
  "cells": [
    {
      "cell_type": "markdown",
      "metadata": {
        "id": "dGBVGNhDwGub"
      },
      "source": [
        "# Parkinson's Data Exploration\n",
        "\n",
        "This document will hold code that will allow us to gain insights on the parkinsons datasets that we have to work including disease classification, multiple sound recording, and telemonitoring. \n",
        "\n",
        "We'll start by importing any necessary packages and pulling in the data using pandas"
      ]
    },
    {
      "cell_type": "code",
      "metadata": {
        "colab": {
          "base_uri": "https://localhost:8080/"
        },
        "id": "DDpZewMVzUFx",
        "outputId": "b163df75-6d31-45a4-bc58-0cabb50b96d1"
      },
      "source": [
        "from google.colab import drive\n",
        "drive.mount('/content/gdrive')"
      ],
      "execution_count": null,
      "outputs": [
        {
          "output_type": "stream",
          "name": "stdout",
          "text": [
            "Mounted at /content/gdrive\n"
          ]
        }
      ]
    },
    {
      "cell_type": "code",
      "metadata": {
        "colab": {
          "base_uri": "https://localhost:8080/"
        },
        "id": "hZyMM_7hzgZS",
        "outputId": "104d0de6-ab66-4a9c-cb7f-35132ec90591"
      },
      "source": [
        "cd /content/gdrive/MyDrive/parkinsons-detector-master\n"
      ],
      "execution_count": 16,
      "outputs": [
        {
          "output_type": "stream",
          "name": "stdout",
          "text": [
            "/content/gdrive/MyDrive/parkinsons-detector-master\n"
          ]
        }
      ]
    },
    {
      "cell_type": "code",
      "metadata": {
        "id": "tHroFlRBwGui"
      },
      "source": [
        "# Data Manipulation\n",
        "import pandas as pd\n",
        "# Visualizations\n",
        "from keras.utils.vis_utils import plot_model\n",
        "#import vis_utils\n",
        "import matplotlib.pyplot as plt\n",
        "\n",
        "\n",
        "dc = pd.read_csv('./data/disease-classification/pd_speech_features_no_top_row.csv')\n",
        "msr_train = pd.read_csv('./data/multiple-sound-recording/train_data.csv')\n",
        "msr_test = pd.read_csv('./data/multiple-sound-recording/test_data.csv')\n",
        "te = pd.read_csv('./data/telemonitoring/parkinsons_updrs.csv')"
      ],
      "execution_count": 17,
      "outputs": []
    },
    {
      "cell_type": "markdown",
      "metadata": {
        "id": "Ch08s5UxwGuk"
      },
      "source": [
        "## Background Dataset Information\n",
        "\n",
        "### [Disease Classification (DC) Dataset](https://archive.ics.uci.edu/ml/datasets/Parkinson%27s+Disease+Classification#)\n",
        "The data used in this study were gathered from 188 patients with Parkinsons and 64 healthy individuals. Researchers recorded the participants sustaining the phonation of the vowel /a/ for three repetitions.\n",
        "\n",
        "Speech signal processing algorithms including Time Frequency Features, Mel Frequency Cepstral Coefficients (MFCCs), Wavelet Transform based Features, Vocal Fold Features and TWQT features were also applied to the speech recordings to extract clinically useful information for PD assessment.\n",
        "\n",
        "### [Multiple Sound Recording (MSR) Dataset](https://archive.ics.uci.edu/ml/datasets/Parkinson+Speech+Dataset+with++Multiple+Types+of+Sound+Recordings)\n",
        "The training data were gathered from 20 patients with Parkinsons and 20 health individuals. Multiple types of sound recordings were taken from each participant (listed below) and expert physicians assigned each participant a Unified Parkinsonâ€™s Disease Rating Scale (UPDRS) score. \n",
        "\n",
        "Utterances\n",
        "- 1: sustained vowel (aaaâ€¦â€¦)\n",
        "- 2: sustained vowel (oooâ€¦...)\n",
        "- 3: sustained vowel (uuuâ€¦...)\n",
        "- 4-13: numbers from 1 to 10\n",
        "- 14-17: short sentences\n",
        "- 18-26: words\n",
        "\n",
        "Features\n",
        "Training Data File:\n",
        "- column 1: Subject id\n",
        "\n",
        "- columns 2-27: features\n",
        "- features 1-5: Jitter (local),Jitter (local, absolute),Jitter (rap),Jitter (ppq5),Jitter (ddp),\n",
        "- features 6-11: Shimmer (local),Shimmer (local, dB),Shimmer (apq3),Shimmer (apq5), Shimmer (apq11),Shimmer (dda),\n",
        "- features 12-14: AC,NTH,HTN,\n",
        "- features 15-19: Median pitch,Mean pitch,Standard deviation,Minimum pitch,Maximum pitch,\n",
        "- features 20-23: Number of pulses,Number of periods,Mean period,Standard deviation of period, features 24-26: Fraction of locally unvoiced frames,Number of voice breaks,Degree of voice breaks\n",
        "\n",
        "- column 28: UPDRS\n",
        "- column 29: class information\n",
        "\n",
        "The testing data were gathered from 28 different patients with Parkinsons. The patients are asked to say only the sustained vowels 'a' and 'o' three times each, producing 168 recordings. The same 26 features are extracted from the voice samples.\n",
        "\n",
        "Utterances\n",
        "- 1-3: sustained vowel (aaaâ€¦â€¦)\n",
        "- 4-6: sustained vowel (oooâ€¦â€¦)\n",
        "\n",
        "\n",
        "\n",
        "### [Telemonitoring (TE) Dataset ](http://archive.ics.uci.edu/ml/datasets/Parkinsons+Telemonitoring)\n",
        "The data was gathered from 42 people with early-stage Parkinson's disease. There are 16 voice measures, and two regression measurements: motor UPDRS and total UPDRS. Each row of the dataset contain corresponds to one voice recording. There are around 200 recordings per patient, the subject number of the patient is identified in the first column.\n",
        "\n",
        "Features\n",
        "- subject# - Integer that uniquely identifies each subject\n",
        "- age - Subject age\n",
        "- sex - Subject gender '0' - male, '1' - female\n",
        "- test_time - Time since recruitment into the trial. The integer part is the number of days since recruitment.\n",
        "- motor_UPDRS - Clinician's motor UPDRS score, linearly interpolated\n",
        "- total_UPDRS - Clinician's total UPDRS score, linearly interpolated\n",
        "- Jitter(%),Jitter(Abs),Jitter:RAP,Jitter:PPQ5,Jitter:DDP - Several measures of variation in fundamental frequency\n",
        "- Shimmer,Shimmer(dB),Shimmer:APQ3,Shimmer:APQ5,Shimmer:APQ11,Shimmer:DDA - Several measures of variation in amplitude\n",
        "- NHR,HNR - Two measures of ratio of noise to tonal components in the voice\n",
        "- RPDE - A nonlinear dynamical complexity measure\n",
        "- DFA - Signal fractal scaling exponent\n",
        "- PPE - A nonlinear measure of fundamental frequency variation"
      ]
    },
    {
      "cell_type": "markdown",
      "metadata": {
        "id": "dw9cjTl6wGum"
      },
      "source": [
        "## Dataset Similarities and Differences\n",
        "\n",
        "In this section we'll take a look at some of the similarities and differences across these 3 datasets. We can begin by looking at the shape of these datasets."
      ]
    },
    {
      "cell_type": "code",
      "metadata": {
        "colab": {
          "base_uri": "https://localhost:8080/"
        },
        "id": "1butR6GzwGum",
        "outputId": "a95578b3-4a25-4e52-ab97-08b7d7dfa7be"
      },
      "source": [
        "print(\"Disease Classification Dataset shape: {}\".format(dc.shape))\n",
        "print(\"Multiple Sound Recoring Training Dataset shape: {}\".format(msr_train.shape))\n",
        "print(\"Multiple Sound Recoring Testing Dataset shape: {}\".format(msr_test.shape))\n",
        "print(\"Telemonitoring Datasetshape: {}\".format(te.shape))"
      ],
      "execution_count": 18,
      "outputs": [
        {
          "output_type": "stream",
          "name": "stdout",
          "text": [
            "Disease Classification Dataset shape: (756, 755)\n",
            "Multiple Sound Recoring Training Dataset shape: (1040, 29)\n",
            "Multiple Sound Recoring Testing Dataset shape: (168, 28)\n",
            "Telemonitoring Datasetshape: (5875, 22)\n"
          ]
        }
      ]
    },
    {
      "cell_type": "markdown",
      "metadata": {
        "id": "u7t_kvnuwGuo"
      },
      "source": [
        "Immediately, we notice that the dimensionality of the DC dataset is very high in comparison to the other two datasets, with about 30 times the number of features. This is due to the speech signal processing algorithms that are run on the voice recordings on this dataset, including Time Frequency Features, Mel Frequency Cepstral Coefficients (MFCCs), Wavelet Transform based Features, Vocal Fold Features and TWQT features. These processes create many features.\n",
        "\n",
        "We also note that the DC and MSR datasets have a similar number of instances, while the TE dataset has over 5 times as many instances. None of these datasets are particularly large."
      ]
    },
    {
      "cell_type": "markdown",
      "metadata": {
        "id": "sWrShu28wGut"
      },
      "source": [
        "\n",
        "\n",
        "### Multiple Sound Recording Datasets\n",
        "Now let's get into the Multiple Sound Recording Datasets. These datasets are interesting in that there are two seperate train and test datasets. The data are also drawn from very different distributions of people, with the train dataset coming from a mix of people with and without Parkinson's and the test dataset being entirely composed of data collected from people with Parkinson's.\n",
        "\n",
        "We can graph the covariance matrix of both datasets and see if they differ."
      ]
    },
    {
      "cell_type": "markdown",
      "metadata": {
        "id": "0K_aLr2kwGu0"
      },
      "source": [
        "## Label Visualization\n"
      ]
    },
    {
      "cell_type": "code",
      "metadata": {
        "id": "virqUExhwGu0",
        "colab": {
          "base_uri": "https://localhost:8080/",
          "height": 244
        },
        "outputId": "fb66576f-8550-4d31-e059-8c9a06e51641"
      },
      "source": [
        "fig = plt.figure(figsize=(13, 3))\n",
        "ax1 = fig.add_subplot(1, 3, 1)\n",
        "ax1.hist(te['motor_UPDRS'])\n",
        "ax1.set_title('Tele dataset: motor UPDRS distribution')\n",
        "ax2 = fig.add_subplot(1, 3, 2)\n",
        "ax2.hist(te['total_UPDRS'])\n",
        "ax2.set_title('Tele dataset: total UPDRS distribution')\n",
        "ax3 = fig.add_subplot(1, 3, 3)\n",
        "ax3.hist(msr_train['UPDRS'][:int(len(msr_train['UPDRS'])/2)])\n",
        "ax3.set_title('MSR training set: UPDRS distribution')"
      ],
      "execution_count": 19,
      "outputs": [
        {
          "output_type": "execute_result",
          "data": {
            "text/plain": [
              "Text(0.5, 1.0, 'MSR training set: UPDRS distribution')"
            ]
          },
          "metadata": {},
          "execution_count": 19
        },
        {
          "output_type": "display_data",
          "data": {
            "image/png": "[encoded data removed]",
            "text/plain": [
              "<Figure size 936x216 with 3 Axes>"
            ]
          },
          "metadata": {
            "needs_background": "light"
          }
        }
      ]
    },
    {
      "cell_type": "code",
      "metadata": {
        "id": "c05Lbp2gIpwW"
      },
      "source": [
        "datasets = [(\"disease-classification\", \"Disease Classification\", dc),\n",
        "            (\"multiple-sound-recoring-train\", \"Multiple Sound Recording Train\", msr_train),\n",
        "            (\"multiple-sound-recoring-test\", \"Multiple Sound Recording Test\", msr_test),\n",
        "            (\"telemonitoring\", \"Telemonitoring\", te)]\n",
        "\n",
        "msr_train_filename, msr_train_name, msr_train_data = datasets[1]\n",
        "\n",
        "msr_columns = ['jitter_local', 'jitter_local_absolute',\n",
        "               'jitter_rap', 'jitter_ppq5', 'jitter_ddp', 'shimmer_local',\n",
        "               'shimmer_local_db', 'shimmer_apq3', 'shimmer_apq5', \n",
        "               'shimmer_apq11', 'shimmer_data', 'AC', 'NTH', 'HTN',\n",
        "               'median_pitch', 'mean_pitch', 'standard_dev_pitch', \n",
        "               'min_pitch', 'max_pitch', 'num_pulses', 'num_periods',\n",
        "               'mean_period','standard_dev_period', 'frac_locally_unvoiced_frames',\n",
        "               'num_voice_breaks','degree_of_voice_breaks']\n"
      ],
      "execution_count": 22,
      "outputs": []
    },
    {
      "cell_type": "code",
      "metadata": {
        "id": "Hf9kBL9MI8yd"
      },
      "source": [
        "from sklearn import preprocessing\n",
        "scaled_msr_train_data = pd.DataFrame(preprocessing.scale(msr_train_data[msr_columns]), columns = msr_columns)\n",
        "from sklearn.decomposition import PCA\n",
        "pca = PCA()\n",
        "transformed_msr_train_data = pca.fit_transform(scaled_msr_train_data)\n",
        "\n",
        "\n"
      ],
      "execution_count": 23,
      "outputs": []
    },
    {
      "cell_type": "code",
      "metadata": {
        "id": "_CY0444WJVc-"
      },
      "source": [
        "msr_test_filename, msr_test_name, msr_test_data = datasets[2]\n",
        "scaled_msr_test_data = pd.DataFrame(preprocessing.scale(msr_test_data[msr_columns]), columns = msr_columns)\n",
        "transformed_msr_test_data_forTesting = pca.fit_transform(scaled_msr_test_data)\n"
      ],
      "execution_count": 24,
      "outputs": []
    },
    {
      "cell_type": "code",
      "metadata": {
        "id": "_t_h_vK_LmbO"
      },
      "source": [
        "def intrinsic_dimension(explained_variance_ratio_, recovered_variance=.99):\n",
        "    dim = 0\n",
        "    partial_var = 0\n",
        "    for val in explained_variance_ratio_:\n",
        "        # Update dim and va\n",
        "        dim += 1\n",
        "        partial_var += val\n",
        "        if partial_var >= recovered_variance:\n",
        "            break\n",
        "    return dim"
      ],
      "execution_count": 25,
      "outputs": []
    },
    {
      "cell_type": "markdown",
      "metadata": {
        "id": "PLMIvK4fwGu0"
      },
      "source": [
        "## SVM classifier\n"
      ]
    },
    {
      "cell_type": "code",
      "metadata": {
        "id": "N6J8Sru7wGu1",
        "colab": {
          "base_uri": "https://localhost:8080/"
        },
        "outputId": "46fb60eb-993f-4616-ba36-bdd67591df87"
      },
      "source": [
        "# Train a SVM classifier based on the PCA output\n",
        "from sklearn import svm\n",
        "from sklearn.metrics import accuracy_score\n",
        "import sklearn.metrics as metrics\n",
        "import numpy as np\n",
        "\n",
        "\n",
        "clf_linear = svm.SVC(kernel='linear')\n",
        "clf_linear.fit(transformed_msr_train_data, msr_train['class_info']) \n",
        "y_pred = clf_linear.predict(transformed_msr_test_data_forTesting)\n",
        "print('Linear Accuracy: %f', accuracy_score(np.ones(y_pred.shape), y_pred))\n",
        "\n",
        "clf_rbf = svm.SVC(kernel='rbf')\n",
        "clf_rbf.fit(transformed_msr_train_data, msr_train['class_info']) \n",
        "y_pred = clf_rbf.predict(transformed_msr_test_data_forTesting)\n",
        "print('RBF Accuracy: %f', accuracy_score(np.ones(y_pred.shape), y_pred))\n",
        "\n",
        "clf_poly = svm.SVC(kernel='poly')\n",
        "clf_poly.fit(transformed_msr_train_data, msr_train['class_info']) \n",
        "y_pred = clf_poly.predict(transformed_msr_test_data_forTesting)\n",
        "print('Poly Accuracy: %f', accuracy_score(np.ones(y_pred.shape), y_pred))\n"
      ],
      "execution_count": 26,
      "outputs": [
        {
          "output_type": "stream",
          "name": "stdout",
          "text": [
            "Linear Accuracy: %f 0.47023809523809523\n",
            "RBF Accuracy: %f 0.5178571428571429\n",
            "Poly Accuracy: %f 0.7916666666666666\n"
          ]
        }
      ]
    },
    {
      "cell_type": "code",
      "metadata": {
        "colab": {
          "base_uri": "https://localhost:8080/"
        },
        "id": "F5edqLnxLVJV",
        "outputId": "824d94e2-605b-4bed-9b8b-0e5c08bf17b1"
      },
      "source": [
        "# Scale and Transform data\n",
        "msrtrain_TE = pd.read_csv('./data/multiple-sound-recording/TE_MSRtrain_combined.csv')\n",
        "msr_TE_columns = msrtrain_TE.columns[4:17]\n",
        "scaled_msrtrain_TE = pd.DataFrame(preprocessing.scale(msrtrain_TE[msr_TE_columns]), columns = msr_TE_columns)\n",
        "scaled_msrtrain_TE\n",
        "\n",
        "pca = PCA()\n",
        "pca.fit(scaled_msrtrain_TE)\n",
        "n_components_msrTE = intrinsic_dimension(pca.explained_variance_ratio_)\n",
        "print(f\"Components making 99% of variance: {n_components_msrTE}\")\n",
        "pca = PCA(n_components=n_components_msrTE)\n",
        "transformed_msrtrain_TE = pca.fit_transform(scaled_msrtrain_TE)\n",
        "\n",
        "#MSR testing data\n",
        "# select overlapping features\n",
        "msr_test_data_TEmsr = msr_test_data[['jitter_local', 'jitter_local_absolute',\n",
        "               'jitter_rap', 'jitter_ppq5', 'jitter_ddp', 'shimmer_local',\n",
        "               'shimmer_local_db', 'shimmer_apq3', 'shimmer_apq5', \n",
        "               'shimmer_apq11', 'shimmer_data', 'NTH', 'HTN']]\n",
        "# use same feature names\n",
        "msr_test_data_TEmsr.columns = msrtrain_TE.columns[4:17]\n",
        "#reduce dimensionality\n",
        "pca = PCA(n_components=n_components_msrTE)\n",
        "scaled_msr_test_data_TEmsr = pd.DataFrame(preprocessing.scale(msr_test_data_TEmsr[msr_TE_columns]), columns = msr_TE_columns)\n",
        "transformed_msr_test_data_TEmsr_forTesting = pca.fit_transform(scaled_msr_test_data_TEmsr)"
      ],
      "execution_count": 27,
      "outputs": [
        {
          "output_type": "stream",
          "name": "stdout",
          "text": [
            "Components making 99% of variance: 8\n"
          ]
        }
      ]
    },
    {
      "cell_type": "markdown",
      "metadata": {
        "id": "XBQoZnVEwGu3"
      },
      "source": [
        "### SVM classifier"
      ]
    },
    {
      "cell_type": "code",
      "metadata": {
        "id": "xhb761OtwGu3",
        "colab": {
          "base_uri": "https://localhost:8080/"
        },
        "outputId": "e0a0337b-cf1f-4b73-8920-ae31295868d1"
      },
      "source": [
        "clf_linear = svm.SVC(kernel='linear')\n",
        "clf_linear.fit(transformed_msrtrain_TE, msrtrain_TE.Class) \n",
        "y_pred = clf_linear.predict(transformed_msr_test_data_TEmsr_forTesting)\n",
        "print('Linear Accuracy:', 100*round(accuracy_score(np.ones(y_pred.shape), y_pred),3),'%')\n",
        "\n",
        "clf_rbf = svm.SVC(kernel='rbf')\n",
        "clf_rbf.fit(transformed_msrtrain_TE, msrtrain_TE.Class)  \n",
        "y_pred = clf_rbf.predict(transformed_msr_test_data_TEmsr_forTesting)\n",
        "print('RBF Accuracy:', 100*round(accuracy_score(np.ones(y_pred.shape), y_pred),3),'%')\n",
        "\n",
        "clf_poly = svm.SVC(kernel='poly')\n",
        "clf_poly.fit(transformed_msrtrain_TE, msrtrain_TE.Class) \n",
        "y_pred = clf_poly.predict(transformed_msr_test_data_TEmsr_forTesting)\n",
        "print('Poly Accuracy:', 100*round(accuracy_score(np.ones(y_pred.shape), y_pred),3),'%')"
      ],
      "execution_count": 28,
      "outputs": [
        {
          "output_type": "stream",
          "name": "stdout",
          "text": [
            "Linear Accuracy: 100.0 %\n",
            "RBF Accuracy: 100.0 %\n",
            "Poly Accuracy: 97.0 %\n"
          ]
        }
      ]
    },
    {
      "cell_type": "markdown",
      "metadata": {
        "id": "6PEyqHpvwGu5"
      },
      "source": [
        "## Predicting UPDRS Score\n",
        "Parkinson's severity is scored on the UPDRS score. Since we have these scores for the MSR training dataset and the TE dataset, we wanted to test if we could predict these scores with random forest and ridge regression. Again, we will use the TE and MSR training combined set. This time, the data will be normalized (l2 norm) before using the supervised learning algorithms."
      ]
    },
    {
      "cell_type": "code",
      "metadata": {
        "id": "UL3mHpSnwGu5"
      },
      "source": [
        "msr_TE_columns = msrtrain_TE.columns[4:17]\n",
        "# l2 normalize each feature\n",
        "normTEmsr = pd.DataFrame(preprocessing.normalize(msrtrain_TE[msr_TE_columns], norm='l2',axis=1), columns = msr_TE_columns)\n",
        "labels = np.array(msrtrain_TE.UPDRS)\n",
        "\n",
        "# now split into test (10%), and train (90%) sets since the MSR test data set does not have UPDRS scores\n",
        "from sklearn.model_selection import train_test_split\n",
        "train, test, trainy, testy = train_test_split(normTEmsr, labels, test_size = 0.1, random_state=3)"
      ],
      "execution_count": 29,
      "outputs": []
    },
    {
      "cell_type": "code",
      "metadata": {
        "id": "5tPgBi_vSCjC",
        "colab": {
          "base_uri": "https://localhost:8080/"
        },
        "outputId": "12cf4850-4645-429a-ec34-38674212a73d"
      },
      "source": [
        "from sklearn.ensemble import ExtraTreesRegressor\n",
        "reg = ExtraTreesRegressor(n_estimators=100, random_state=2, min_samples_split=3).fit(train, trainy)\n",
        "predictions = reg.predict(test)\n",
        "print('Mean Absolute Error:', round(metrics.mean_absolute_error(testy, predictions),2))\n",
        "print('Root Mean Squared Error:', round(np.sqrt(metrics.mean_squared_error(testy, predictions)),2))"
      ],
      "execution_count": 30,
      "outputs": [
        {
          "output_type": "stream",
          "name": "stdout",
          "text": [
            "Mean Absolute Error: 8.97\n",
            "Root Mean Squared Error: 11.37\n"
          ]
        }
      ]
    },
    {
      "cell_type": "markdown",
      "metadata": {
        "id": "0oGBPdMhwGu8"
      },
      "source": [
        "\n",
        "\n",
        "## Feature description:\n",
        "- Jitter: analysis of speaker's voic pitch\n",
        "- Shimmer: analysis of speaker's voice amplitude\n"
      ]
    },
    {
      "cell_type": "markdown",
      "metadata": {
        "id": "8Z8jbLz1wGu8"
      },
      "source": [
        "## Demo Feature Extraction From Sound Files\n",
        "Things Extracted:\n",
        "- mean pitch, stdev pitch, harmonicity mean, jitter(local), jitter(abs, local), jitter(rap), ppq5Jitter, jitter(ddp), shimmer(local), shimmer(localdb), shimmer(apq3), shimmer(apq5), shimmer(apq11), shimmer(dda), mean period, stdev period, num periods, HTN (aka HNR)\n",
        "This to find:\n",
        "- anything on voice breaks\n",
        "- unvoiced frames\n",
        "- min pitch\n",
        "- max pitch\n",
        "- NTH\n",
        "- Autocorrelation (harmonicity)\n"
      ]
    },
    {
      "cell_type": "code",
      "metadata": {
        "id": "4XYcVz22wGu8",
        "colab": {
          "base_uri": "https://localhost:8080/"
        },
        "outputId": "0c623b5e-b528-47b9-df0a-d2c45a70aec6"
      },
      "source": [
        "# imports \n",
        "!pip install praat-parselmouth\n",
        "import parselmouth\n",
        "from parselmouth.praat import call\n",
        "sound = parselmouth.Sound(\"data/mozillaClips/tstClip.mp3\")"
      ],
      "execution_count": 32,
      "outputs": [
        {
          "output_type": "stream",
          "name": "stdout",
          "text": [
            "Collecting praat-parselmouth\n",
            "  Downloading praat_parselmouth-0.4.0-cp37-cp37m-manylinux2010_x86_64.whl (10.7 MB)\n",
            "\u001b[K     |████████████████████████████████| 10.7 MB 4.6 MB/s \n",
            "\u001b[?25hRequirement already satisfied: numpy>=1.7.0 in /usr/local/lib/python3.7/dist-packages (from praat-parselmouth) (1.19.5)\n",
            "Installing collected packages: praat-parselmouth\n",
            "Successfully installed praat-parselmouth-0.4.0\n"
          ]
        }
      ]
    },
    {
      "cell_type": "code",
      "metadata": {
        "id": "ySUsdDOTwGu8",
        "colab": {
          "base_uri": "https://localhost:8080/"
        },
        "outputId": "e7283a39-a398-4de5-d96d-c077436c8c25"
      },
      "source": [
        "f0min = 75\n",
        "f0max = 600\n",
        "unit = \"Hertz\"\n",
        "\n",
        "pitch = call(sound, \"To Pitch\", 0.0, f0min, f0max) \n",
        "meanF0 = call(pitch, \"Get mean\", 0, 0, unit) \n",
        "stdevF0 = call(pitch, \"Get standard deviation\", 0 ,0, unit) \n",
        "harmonicity = call(sound, \"To Harmonicity (cc)\", 0.01, 75, 0.1, 1.0)\n",
        "hnr = call(harmonicity, \"Get mean\", 0, 0)\n",
        "pointProcess = call(sound, \"To PointProcess (periodic, cc)\", f0min, f0max)\n",
        "localJitter = call(pointProcess, \"Get jitter (local)\", 0, 0, 0.0001, 0.02, 1.3)\n",
        "localabsoluteJitter = call(pointProcess, \"Get jitter (local, absolute)\", 0, 0, 0.0001, 0.02, 1.3)\n",
        "rapJitter = call(pointProcess, \"Get jitter (rap)\", 0, 0, 0.0001, 0.02, 1.3)\n",
        "ppq5Jitter = call(pointProcess, \"Get jitter (ppq5)\", 0, 0, 0.0001, 0.02, 1.3)\n",
        "ddpJitter = call(pointProcess, \"Get jitter (ddp)\", 0, 0, 0.0001, 0.02, 1.3)\n",
        "localShimmer =  call([sound, pointProcess], \"Get shimmer (local)\", 0, 0, 0.0001, 0.02, 1.3, 1.6)\n",
        "localdbShimmer = call([sound, pointProcess], \"Get shimmer (local_dB)\", 0, 0, 0.0001, 0.02, 1.3, 1.6)\n",
        "apq3Shimmer = call([sound, pointProcess], \"Get shimmer (apq3)\", 0, 0, 0.0001, 0.02, 1.3, 1.6)\n",
        "aqpq5Shimmer = call([sound, pointProcess], \"Get shimmer (apq5)\", 0, 0, 0.0001, 0.02, 1.3, 1.6)\n",
        "apq11Shimmer =  call([sound, pointProcess], \"Get shimmer (apq11)\", 0, 0, 0.0001, 0.02, 1.3, 1.6)\n",
        "ddaShimmer = call([sound, pointProcess], \"Get shimmer (dda)\", 0, 0, 0.0001, 0.02, 1.3, 1.6)\n",
        "#print(meanF0, stdevF0, hnr, localJitter, localabsoluteJitter, rapJitter, ppq5Jitter, ddpJitter, localShimmer, localdbShimmer, apq3Shimmer, aqpq5Shimmer, apq11Shimmer, ddaShimmer)\n",
        "\n",
        "df = pd.DataFrame(np.column_stack([meanF0, stdevF0, hnr, localJitter, localabsoluteJitter, rapJitter, ppq5Jitter, ddpJitter, localShimmer, localdbShimmer, apq3Shimmer, aqpq5Shimmer, apq11Shimmer, ddaShimmer]),\n",
        "                  columns=['mean pitch','standard deviation','hnr','local jitter','jitter_local_absolute','jitter_rap','jitter_ppq5','jitter_ddp','shimmer_local','shimmer_db','shimmer_apq3','shimmer_apq5','shimmer_apq11','shimmer_dda'])"
      ],
      "execution_count": 33,
      "outputs": [
        {
          "output_type": "stream",
          "name": "stdout",
          "text": [
            "236.00976740043308 193.9376143459164 9.724241207396748 0.04443067743077206 0.000195566041915513 0.022225449747266084 0.026388670031223513 0.06667634924179824 0.12730117762655563 1.3667099278389145 0.05367953813983153 0.08405807507080362 0.14708959662341275 0.16103861441949457\n"
          ]
        }
      ]
    },
    {
      "cell_type": "code",
      "metadata": {
        "colab": {
          "base_uri": "https://localhost:8080/",
          "height": 117
        },
        "id": "RwVUMBaMaxK1",
        "outputId": "935b3602-807d-45ab-a81b-801bbc5aff63"
      },
      "source": [
        "df"
      ],
      "execution_count": 34,
      "outputs": [
        {
          "output_type": "execute_result",
          "data": {
            "text/html": [
              "<div>\n",
              "<style scoped>\n",
              "    .dataframe tbody tr th:only-of-type {\n",
              "        vertical-align: middle;\n",
              "    }\n",
              "\n",
              "    .dataframe tbody tr th {\n",
              "        vertical-align: top;\n",
              "    }\n",
              "\n",
              "    .dataframe thead th {\n",
              "        text-align: right;\n",
              "    }\n",
              "</style>\n",
              "<table border=\"1\" class=\"dataframe\">\n",
              "  <thead>\n",
              "    <tr style=\"text-align: right;\">\n",
              "      <th></th>\n",
              "      <th>mean pitch</th>\n",
              "      <th>standard deviation</th>\n",
              "      <th>hnr</th>\n",
              "      <th>local jitter</th>\n",
              "      <th>jitter_local_absolute</th>\n",
              "      <th>jitter_rap</th>\n",
              "      <th>jitter_ppq5</th>\n",
              "      <th>jitter_ddp</th>\n",
              "      <th>shimmer_local</th>\n",
              "      <th>shimmer_db</th>\n",
              "      <th>shimmer_apq3</th>\n",
              "      <th>shimmer_apq5</th>\n",
              "      <th>shimmer_apq11</th>\n",
              "      <th>shimmer_dda</th>\n",
              "    </tr>\n",
              "  </thead>\n",
              "  <tbody>\n",
              "    <tr>\n",
              "      <th>0</th>\n",
              "      <td>236.009767</td>\n",
              "      <td>193.937614</td>\n",
              "      <td>9.724241</td>\n",
              "      <td>0.044431</td>\n",
              "      <td>0.000196</td>\n",
              "      <td>0.022225</td>\n",
              "      <td>0.026389</td>\n",
              "      <td>0.066676</td>\n",
              "      <td>0.127301</td>\n",
              "      <td>1.36671</td>\n",
              "      <td>0.05368</td>\n",
              "      <td>0.084058</td>\n",
              "      <td>0.14709</td>\n",
              "      <td>0.161039</td>\n",
              "    </tr>\n",
              "  </tbody>\n",
              "</table>\n",
              "</div>"
            ],
            "text/plain": [
              "   mean pitch  standard deviation  ...  shimmer_apq11  shimmer_dda\n",
              "0  236.009767          193.937614  ...        0.14709     0.161039\n",
              "\n",
              "[1 rows x 14 columns]"
            ]
          },
          "metadata": {},
          "execution_count": 34
        }
      ]
    },
    {
      "cell_type": "code",
      "metadata": {
        "id": "aGtLWa7IwGu9"
      },
      "source": [
        "meanPeriod = call(pointProcess, \"Get mean period\", 0, 0, 0.0001, 0.02, 1.3)\n",
        "standardDeviation = call(pointProcess, \"Get stdev period\", 0, 0, 0.0001, 0.02, 1.3)\n",
        "numperiods = call(pointProcess, \"Get number of periods\", 0, 0, 0.0001, 0.02, 1.3)\n"
      ],
      "execution_count": 35,
      "outputs": []
    },
    {
      "cell_type": "code",
      "metadata": {
        "id": "fR1JJCrvwGu-",
        "colab": {
          "base_uri": "https://localhost:8080/",
          "height": 521
        },
        "outputId": "1d48f5c8-83fc-487f-92ef-9e83ffa6215f"
      },
      "source": [
        "import pandas as pd\n",
        "def loadData(i):\n",
        "    filename = \"data/mozillaClips/clips_\" + str(i) + \"_data.csv\"\n",
        "    print(filename)\n",
        "    df = pd.read_csv(filename)\n",
        "    consideredCols =['Jitter (local)',\n",
        "       'Jitter (local, absolute)', 'Jitter (rap)', 'Jitter (ppq5)',\n",
        "       'Jitter (ddp)', 'Shimmer (local)', 'Shimmer (local, dB)',\n",
        "       'Shimmer (apq3)', 'Shimmer (apq5)', 'Shimmer (apq11)', 'Shimmer (dda)',\n",
        "       'Mean autocorrelation', 'Mean noise-to-harmonics ratio',\n",
        "       'Mean harmonics-to-noise ratio']\n",
        "    #print(df[consideredCols])\n",
        "    keyMap = {'Jitter (local)': \"jitter_local\",'Jitter (local, absolute)': \"jitter_local_absolute\", \n",
        "              'Jitter (rap)': \"jitter_rap\", 'Jitter (ppq5)': \"jitter_ppq5\",\n",
        "               'Jitter (ddp)': \"jitter_ddp\", 'Shimmer (local)': \"shimmer_local\", \n",
        "               'Shimmer (apq3)': \"shimmer_apq3\", 'Shimmer (apq5)': \"shimmer_apq5\", \n",
        "              'Shimmer (apq11)': \"shimmer_apq11\", 'Shimmer (dda)': \"shimmer_dda\",\n",
        "               'Mean autocorrelation': \"AC\", 'Mean noise-to-harmonics ratio': \"NHR\",\n",
        "              'Shimmer (local, dB)': \"shimmer_db\",'Mean harmonics-to-noise ratio': \"HNR\"}\n",
        "    df = df[~df.eq(\"--undefined--\").any(1)]   \n",
        "    df = df.rename(columns=keyMap)\n",
        "    return df\n",
        "    \n",
        "loadData(0)"
      ],
      "execution_count": 36,
      "outputs": [
        {
          "output_type": "stream",
          "name": "stdout",
          "text": [
            "data/mozillaClips/clips_0_data.csv\n"
          ]
        },
        {
          "output_type": "execute_result",
          "data": {
            "text/html": [
              "<div>\n",
              "<style scoped>\n",
              "    .dataframe tbody tr th:only-of-type {\n",
              "        vertical-align: middle;\n",
              "    }\n",
              "\n",
              "    .dataframe tbody tr th {\n",
              "        vertical-align: top;\n",
              "    }\n",
              "\n",
              "    .dataframe thead th {\n",
              "        text-align: right;\n",
              "    }\n",
              "</style>\n",
              "<table border=\"1\" class=\"dataframe\">\n",
              "  <thead>\n",
              "    <tr style=\"text-align: right;\">\n",
              "      <th></th>\n",
              "      <th>Median pitch</th>\n",
              "      <th>Mean pitch</th>\n",
              "      <th>Standard deviation</th>\n",
              "      <th>Minimum pitch</th>\n",
              "      <th>Maximum pitch</th>\n",
              "      <th>Number of pulses</th>\n",
              "      <th>Number of periods</th>\n",
              "      <th>Mean period</th>\n",
              "      <th>Standard deviation of period</th>\n",
              "      <th>Fraction of locally unvoiced frames</th>\n",
              "      <th>Number of voice breaks</th>\n",
              "      <th>Degree of voice breaks</th>\n",
              "      <th>jitter_local</th>\n",
              "      <th>jitter_local_absolute</th>\n",
              "      <th>jitter_rap</th>\n",
              "      <th>jitter_ppq5</th>\n",
              "      <th>jitter_ddp</th>\n",
              "      <th>shimmer_local</th>\n",
              "      <th>shimmer_db</th>\n",
              "      <th>shimmer_apq3</th>\n",
              "      <th>shimmer_apq5</th>\n",
              "      <th>shimmer_apq11</th>\n",
              "      <th>shimmer_dda</th>\n",
              "      <th>AC</th>\n",
              "      <th>NHR</th>\n",
              "      <th>HNR</th>\n",
              "      <th>clip_name</th>\n",
              "      <th>age</th>\n",
              "      <th>gender</th>\n",
              "    </tr>\n",
              "  </thead>\n",
              "  <tbody>\n",
              "    <tr>\n",
              "      <th>0</th>\n",
              "      <td>90.104</td>\n",
              "      <td>94.061</td>\n",
              "      <td>13.337</td>\n",
              "      <td>73.491</td>\n",
              "      <td>127.579</td>\n",
              "      <td>152</td>\n",
              "      <td>142</td>\n",
              "      <td>0.010721</td>\n",
              "      <td>0.001638</td>\n",
              "      <td>61.237</td>\n",
              "      <td>9</td>\n",
              "      <td>26.266</td>\n",
              "      <td>2.854</td>\n",
              "      <td>306.031E-6</td>\n",
              "      <td>1.276</td>\n",
              "      <td>1.559</td>\n",
              "      <td>3.827</td>\n",
              "      <td>13.739</td>\n",
              "      <td>1.221</td>\n",
              "      <td>5.965</td>\n",
              "      <td>10.340</td>\n",
              "      <td>14.402</td>\n",
              "      <td>17.894</td>\n",
              "      <td>0.777344</td>\n",
              "      <td>0.362033</td>\n",
              "      <td>7.098</td>\n",
              "      <td>common_voice_en_100034.mp3</td>\n",
              "      <td>fourties</td>\n",
              "      <td>male</td>\n",
              "    </tr>\n",
              "    <tr>\n",
              "      <th>1</th>\n",
              "      <td>87.592</td>\n",
              "      <td>94.238</td>\n",
              "      <td>22.812</td>\n",
              "      <td>75.009</td>\n",
              "      <td>215.604</td>\n",
              "      <td>282</td>\n",
              "      <td>263</td>\n",
              "      <td>0.010745</td>\n",
              "      <td>0.002062</td>\n",
              "      <td>56.698</td>\n",
              "      <td>17</td>\n",
              "      <td>30.209</td>\n",
              "      <td>3.037</td>\n",
              "      <td>326.325E-6</td>\n",
              "      <td>1.221</td>\n",
              "      <td>1.566</td>\n",
              "      <td>3.662</td>\n",
              "      <td>15.128</td>\n",
              "      <td>1.419</td>\n",
              "      <td>6.729</td>\n",
              "      <td>9.831</td>\n",
              "      <td>15.615</td>\n",
              "      <td>20.187</td>\n",
              "      <td>0.796216</td>\n",
              "      <td>0.302392</td>\n",
              "      <td>7.303</td>\n",
              "      <td>common_voice_en_100035.mp3</td>\n",
              "      <td>fourties</td>\n",
              "      <td>male</td>\n",
              "    </tr>\n",
              "    <tr>\n",
              "      <th>3</th>\n",
              "      <td>202.321</td>\n",
              "      <td>175.709</td>\n",
              "      <td>66.553</td>\n",
              "      <td>78.900</td>\n",
              "      <td>296.151</td>\n",
              "      <td>257</td>\n",
              "      <td>240</td>\n",
              "      <td>0.005709</td>\n",
              "      <td>0.002450</td>\n",
              "      <td>59.485</td>\n",
              "      <td>10</td>\n",
              "      <td>17.949</td>\n",
              "      <td>5.317</td>\n",
              "      <td>303.522E-6</td>\n",
              "      <td>2.761</td>\n",
              "      <td>3.502</td>\n",
              "      <td>8.284</td>\n",
              "      <td>20.180</td>\n",
              "      <td>1.788</td>\n",
              "      <td>8.561</td>\n",
              "      <td>11.598</td>\n",
              "      <td>27.529</td>\n",
              "      <td>25.682</td>\n",
              "      <td>0.711565</td>\n",
              "      <td>0.466305</td>\n",
              "      <td>4.583</td>\n",
              "      <td>common_voice_en_100037.mp3</td>\n",
              "      <td>fourties</td>\n",
              "      <td>male</td>\n",
              "    </tr>\n",
              "    <tr>\n",
              "      <th>4</th>\n",
              "      <td>124.070</td>\n",
              "      <td>149.956</td>\n",
              "      <td>64.956</td>\n",
              "      <td>75.674</td>\n",
              "      <td>282.571</td>\n",
              "      <td>525</td>\n",
              "      <td>485</td>\n",
              "      <td>0.006726</td>\n",
              "      <td>0.003008</td>\n",
              "      <td>47.051</td>\n",
              "      <td>22</td>\n",
              "      <td>28.641</td>\n",
              "      <td>3.971</td>\n",
              "      <td>267.126E-6</td>\n",
              "      <td>2.002</td>\n",
              "      <td>2.202</td>\n",
              "      <td>6.005</td>\n",
              "      <td>18.928</td>\n",
              "      <td>1.607</td>\n",
              "      <td>9.829</td>\n",
              "      <td>12.057</td>\n",
              "      <td>18.549</td>\n",
              "      <td>29.488</td>\n",
              "      <td>0.738547</td>\n",
              "      <td>0.440605</td>\n",
              "      <td>5.834</td>\n",
              "      <td>common_voice_en_100038.mp3</td>\n",
              "      <td>fourties</td>\n",
              "      <td>male</td>\n",
              "    </tr>\n",
              "    <tr>\n",
              "      <th>5</th>\n",
              "      <td>110.436</td>\n",
              "      <td>143.972</td>\n",
              "      <td>59.941</td>\n",
              "      <td>84.090</td>\n",
              "      <td>251.608</td>\n",
              "      <td>167</td>\n",
              "      <td>157</td>\n",
              "      <td>0.007095</td>\n",
              "      <td>0.002834</td>\n",
              "      <td>62.000</td>\n",
              "      <td>4</td>\n",
              "      <td>9.325</td>\n",
              "      <td>3.650</td>\n",
              "      <td>258.991E-6</td>\n",
              "      <td>1.659</td>\n",
              "      <td>2.175</td>\n",
              "      <td>4.976</td>\n",
              "      <td>18.528</td>\n",
              "      <td>1.502</td>\n",
              "      <td>9.536</td>\n",
              "      <td>12.733</td>\n",
              "      <td>12.336</td>\n",
              "      <td>28.609</td>\n",
              "      <td>0.752964</td>\n",
              "      <td>0.397612</td>\n",
              "      <td>6.054</td>\n",
              "      <td>common_voice_en_100039.mp3</td>\n",
              "      <td>fourties</td>\n",
              "      <td>male</td>\n",
              "    </tr>\n",
              "    <tr>\n",
              "      <th>...</th>\n",
              "      <td>...</td>\n",
              "      <td>...</td>\n",
              "      <td>...</td>\n",
              "      <td>...</td>\n",
              "      <td>...</td>\n",
              "      <td>...</td>\n",
              "      <td>...</td>\n",
              "      <td>...</td>\n",
              "      <td>...</td>\n",
              "      <td>...</td>\n",
              "      <td>...</td>\n",
              "      <td>...</td>\n",
              "      <td>...</td>\n",
              "      <td>...</td>\n",
              "      <td>...</td>\n",
              "      <td>...</td>\n",
              "      <td>...</td>\n",
              "      <td>...</td>\n",
              "      <td>...</td>\n",
              "      <td>...</td>\n",
              "      <td>...</td>\n",
              "      <td>...</td>\n",
              "      <td>...</td>\n",
              "      <td>...</td>\n",
              "      <td>...</td>\n",
              "      <td>...</td>\n",
              "      <td>...</td>\n",
              "      <td>...</td>\n",
              "      <td>...</td>\n",
              "    </tr>\n",
              "    <tr>\n",
              "      <th>9009</th>\n",
              "      <td>120.444</td>\n",
              "      <td>129.127</td>\n",
              "      <td>28.211</td>\n",
              "      <td>87.192</td>\n",
              "      <td>193.739</td>\n",
              "      <td>243</td>\n",
              "      <td>240</td>\n",
              "      <td>0.007772</td>\n",
              "      <td>0.001646</td>\n",
              "      <td>66.726</td>\n",
              "      <td>2</td>\n",
              "      <td>3.688</td>\n",
              "      <td>2.024</td>\n",
              "      <td>157.318E-6</td>\n",
              "      <td>0.939</td>\n",
              "      <td>1.124</td>\n",
              "      <td>2.818</td>\n",
              "      <td>15.381</td>\n",
              "      <td>1.389</td>\n",
              "      <td>6.462</td>\n",
              "      <td>10.906</td>\n",
              "      <td>18.293</td>\n",
              "      <td>19.385</td>\n",
              "      <td>0.844554</td>\n",
              "      <td>0.225498</td>\n",
              "      <td>8.742</td>\n",
              "      <td>common_voice_en_99382.mp3</td>\n",
              "      <td>sixties</td>\n",
              "      <td>male</td>\n",
              "    </tr>\n",
              "    <tr>\n",
              "      <th>9010</th>\n",
              "      <td>111.449</td>\n",
              "      <td>118.542</td>\n",
              "      <td>39.933</td>\n",
              "      <td>88.908</td>\n",
              "      <td>298.068</td>\n",
              "      <td>318</td>\n",
              "      <td>304</td>\n",
              "      <td>0.008498</td>\n",
              "      <td>0.002044</td>\n",
              "      <td>47.898</td>\n",
              "      <td>10</td>\n",
              "      <td>16.439</td>\n",
              "      <td>2.458</td>\n",
              "      <td>208.907E-6</td>\n",
              "      <td>1.121</td>\n",
              "      <td>1.267</td>\n",
              "      <td>3.364</td>\n",
              "      <td>13.854</td>\n",
              "      <td>1.316</td>\n",
              "      <td>5.941</td>\n",
              "      <td>7.453</td>\n",
              "      <td>13.161</td>\n",
              "      <td>17.822</td>\n",
              "      <td>0.819470</td>\n",
              "      <td>0.271754</td>\n",
              "      <td>8.381</td>\n",
              "      <td>common_voice_en_99383.mp3</td>\n",
              "      <td>sixties</td>\n",
              "      <td>male</td>\n",
              "    </tr>\n",
              "    <tr>\n",
              "      <th>9011</th>\n",
              "      <td>101.852</td>\n",
              "      <td>102.519</td>\n",
              "      <td>8.900</td>\n",
              "      <td>85.133</td>\n",
              "      <td>118.944</td>\n",
              "      <td>98</td>\n",
              "      <td>96</td>\n",
              "      <td>0.009765</td>\n",
              "      <td>0.000863</td>\n",
              "      <td>68.652</td>\n",
              "      <td>1</td>\n",
              "      <td>2.160</td>\n",
              "      <td>1.787</td>\n",
              "      <td>174.532E-6</td>\n",
              "      <td>0.728</td>\n",
              "      <td>0.883</td>\n",
              "      <td>2.184</td>\n",
              "      <td>14.793</td>\n",
              "      <td>1.458</td>\n",
              "      <td>5.790</td>\n",
              "      <td>7.367</td>\n",
              "      <td>14.141</td>\n",
              "      <td>17.371</td>\n",
              "      <td>0.884698</td>\n",
              "      <td>0.158188</td>\n",
              "      <td>10.744</td>\n",
              "      <td>common_voice_en_99384.mp3</td>\n",
              "      <td>sixties</td>\n",
              "      <td>male</td>\n",
              "    </tr>\n",
              "    <tr>\n",
              "      <th>9012</th>\n",
              "      <td>166.123</td>\n",
              "      <td>162.835</td>\n",
              "      <td>29.303</td>\n",
              "      <td>121.209</td>\n",
              "      <td>260.299</td>\n",
              "      <td>185</td>\n",
              "      <td>178</td>\n",
              "      <td>0.006214</td>\n",
              "      <td>0.001059</td>\n",
              "      <td>65.598</td>\n",
              "      <td>3</td>\n",
              "      <td>5.913</td>\n",
              "      <td>3.015</td>\n",
              "      <td>187.350E-6</td>\n",
              "      <td>1.663</td>\n",
              "      <td>1.639</td>\n",
              "      <td>4.990</td>\n",
              "      <td>11.825</td>\n",
              "      <td>1.250</td>\n",
              "      <td>5.059</td>\n",
              "      <td>6.256</td>\n",
              "      <td>11.777</td>\n",
              "      <td>15.176</td>\n",
              "      <td>0.843761</td>\n",
              "      <td>0.251157</td>\n",
              "      <td>9.508</td>\n",
              "      <td>common_voice_en_99385.mp3</td>\n",
              "      <td>sixties</td>\n",
              "      <td>male</td>\n",
              "    </tr>\n",
              "    <tr>\n",
              "      <th>9013</th>\n",
              "      <td>99.178</td>\n",
              "      <td>103.424</td>\n",
              "      <td>13.099</td>\n",
              "      <td>77.463</td>\n",
              "      <td>136.928</td>\n",
              "      <td>188</td>\n",
              "      <td>182</td>\n",
              "      <td>0.009743</td>\n",
              "      <td>0.001237</td>\n",
              "      <td>51.151</td>\n",
              "      <td>5</td>\n",
              "      <td>14.018</td>\n",
              "      <td>2.694</td>\n",
              "      <td>262.489E-6</td>\n",
              "      <td>1.169</td>\n",
              "      <td>1.567</td>\n",
              "      <td>3.508</td>\n",
              "      <td>16.794</td>\n",
              "      <td>1.541</td>\n",
              "      <td>6.268</td>\n",
              "      <td>9.944</td>\n",
              "      <td>30.529</td>\n",
              "      <td>18.804</td>\n",
              "      <td>0.770963</td>\n",
              "      <td>0.360312</td>\n",
              "      <td>6.338</td>\n",
              "      <td>common_voice_en_99386.mp3</td>\n",
              "      <td>sixties</td>\n",
              "      <td>male</td>\n",
              "    </tr>\n",
              "  </tbody>\n",
              "</table>\n",
              "<p>8906 rows × 29 columns</p>\n",
              "</div>"
            ],
            "text/plain": [
              "      Median pitch  Mean pitch  ...       age  gender\n",
              "0           90.104      94.061  ...  fourties    male\n",
              "1           87.592      94.238  ...  fourties    male\n",
              "3          202.321     175.709  ...  fourties    male\n",
              "4          124.070     149.956  ...  fourties    male\n",
              "5          110.436     143.972  ...  fourties    male\n",
              "...            ...         ...  ...       ...     ...\n",
              "9009       120.444     129.127  ...   sixties    male\n",
              "9010       111.449     118.542  ...   sixties    male\n",
              "9011       101.852     102.519  ...   sixties    male\n",
              "9012       166.123     162.835  ...   sixties    male\n",
              "9013        99.178     103.424  ...   sixties    male\n",
              "\n",
              "[8906 rows x 29 columns]"
            ]
          },
          "metadata": {},
          "execution_count": 36
        }
      ]
    }
  ]
}