{
 "cells": [
  {
   "cell_type": "markdown",
   "source": [
    "# Importing libraries"
   ],
   "metadata": {}
  },
  {
   "cell_type": "code",
   "execution_count": 2,
   "source": [
    "import warnings\r\n",
    "import pandas as pd\r\n",
    "import numpy as np\r\n",
    "import matplotlib.pyplot as plt\r\n",
    "import seaborn as sns\r\n",
    "\r\n",
    "warnings.filterwarnings('ignore')"
   ],
   "outputs": [],
   "metadata": {}
  },
  {
   "cell_type": "markdown",
   "source": [
    "## First data file "
   ],
   "metadata": {}
  },
  {
   "cell_type": "code",
   "execution_count": 3,
   "source": [
    "dataframedata = pd.read_csv(r'parkinsons.data')\r\n"
   ],
   "outputs": [
    {
     "output_type": "error",
     "ename": "FileNotFoundError",
     "evalue": "[Errno 2] No such file or directory: 'parkinsons.data'",
     "traceback": [
      "\u001b[1;31m---------------------------------------------------------------------------\u001b[0m",
      "\u001b[1;31mFileNotFoundError\u001b[0m                         Traceback (most recent call last)",
      "\u001b[1;32m~\\AppData\\Local\\Temp/ipykernel_24108/1651246841.py\u001b[0m in \u001b[0;36m<module>\u001b[1;34m\u001b[0m\n\u001b[1;32m----> 1\u001b[1;33m \u001b[0mdataframedata\u001b[0m \u001b[1;33m=\u001b[0m \u001b[0mpd\u001b[0m\u001b[1;33m.\u001b[0m\u001b[0mread_csv\u001b[0m\u001b[1;33m(\u001b[0m\u001b[1;34mr'parkinsons.data'\u001b[0m\u001b[1;33m)\u001b[0m\u001b[1;33m\u001b[0m\u001b[1;33m\u001b[0m\u001b[0m\n\u001b[0m",
      "\u001b[1;32md:\\Data Analysis\\House Price Prediction\\venv\\lib\\site-packages\\pandas\\util\\_decorators.py\u001b[0m in \u001b[0;36mwrapper\u001b[1;34m(*args, **kwargs)\u001b[0m\n\u001b[0;32m    309\u001b[0m                     \u001b[0mstacklevel\u001b[0m\u001b[1;33m=\u001b[0m\u001b[0mstacklevel\u001b[0m\u001b[1;33m,\u001b[0m\u001b[1;33m\u001b[0m\u001b[1;33m\u001b[0m\u001b[0m\n\u001b[0;32m    310\u001b[0m                 )\n\u001b[1;32m--> 311\u001b[1;33m             \u001b[1;32mreturn\u001b[0m \u001b[0mfunc\u001b[0m\u001b[1;33m(\u001b[0m\u001b[1;33m*\u001b[0m\u001b[0margs\u001b[0m\u001b[1;33m,\u001b[0m \u001b[1;33m**\u001b[0m\u001b[0mkwargs\u001b[0m\u001b[1;33m)\u001b[0m\u001b[1;33m\u001b[0m\u001b[1;33m\u001b[0m\u001b[0m\n\u001b[0m\u001b[0;32m    312\u001b[0m \u001b[1;33m\u001b[0m\u001b[0m\n\u001b[0;32m    313\u001b[0m         \u001b[1;32mreturn\u001b[0m \u001b[0mwrapper\u001b[0m\u001b[1;33m\u001b[0m\u001b[1;33m\u001b[0m\u001b[0m\n",
      "\u001b[1;32md:\\Data Analysis\\House Price Prediction\\venv\\lib\\site-packages\\pandas\\io\\parsers\\readers.py\u001b[0m in \u001b[0;36mread_csv\u001b[1;34m(filepath_or_buffer, sep, delimiter, header, names, index_col, usecols, squeeze, prefix, mangle_dupe_cols, dtype, engine, converters, true_values, false_values, skipinitialspace, skiprows, skipfooter, nrows, na_values, keep_default_na, na_filter, verbose, skip_blank_lines, parse_dates, infer_datetime_format, keep_date_col, date_parser, dayfirst, cache_dates, iterator, chunksize, compression, thousands, decimal, lineterminator, quotechar, quoting, doublequote, escapechar, comment, encoding, encoding_errors, dialect, error_bad_lines, warn_bad_lines, on_bad_lines, delim_whitespace, low_memory, memory_map, float_precision, storage_options)\u001b[0m\n\u001b[0;32m    584\u001b[0m     \u001b[0mkwds\u001b[0m\u001b[1;33m.\u001b[0m\u001b[0mupdate\u001b[0m\u001b[1;33m(\u001b[0m\u001b[0mkwds_defaults\u001b[0m\u001b[1;33m)\u001b[0m\u001b[1;33m\u001b[0m\u001b[1;33m\u001b[0m\u001b[0m\n\u001b[0;32m    585\u001b[0m \u001b[1;33m\u001b[0m\u001b[0m\n\u001b[1;32m--> 586\u001b[1;33m     \u001b[1;32mreturn\u001b[0m \u001b[0m_read\u001b[0m\u001b[1;33m(\u001b[0m\u001b[0mfilepath_or_buffer\u001b[0m\u001b[1;33m,\u001b[0m \u001b[0mkwds\u001b[0m\u001b[1;33m)\u001b[0m\u001b[1;33m\u001b[0m\u001b[1;33m\u001b[0m\u001b[0m\n\u001b[0m\u001b[0;32m    587\u001b[0m \u001b[1;33m\u001b[0m\u001b[0m\n\u001b[0;32m    588\u001b[0m \u001b[1;33m\u001b[0m\u001b[0m\n",
      "\u001b[1;32md:\\Data Analysis\\House Price Prediction\\venv\\lib\\site-packages\\pandas\\io\\parsers\\readers.py\u001b[0m in \u001b[0;36m_read\u001b[1;34m(filepath_or_buffer, kwds)\u001b[0m\n\u001b[0;32m    480\u001b[0m \u001b[1;33m\u001b[0m\u001b[0m\n\u001b[0;32m    481\u001b[0m     \u001b[1;31m# Create the parser.\u001b[0m\u001b[1;33m\u001b[0m\u001b[1;33m\u001b[0m\u001b[1;33m\u001b[0m\u001b[0m\n\u001b[1;32m--> 482\u001b[1;33m     \u001b[0mparser\u001b[0m \u001b[1;33m=\u001b[0m \u001b[0mTextFileReader\u001b[0m\u001b[1;33m(\u001b[0m\u001b[0mfilepath_or_buffer\u001b[0m\u001b[1;33m,\u001b[0m \u001b[1;33m**\u001b[0m\u001b[0mkwds\u001b[0m\u001b[1;33m)\u001b[0m\u001b[1;33m\u001b[0m\u001b[1;33m\u001b[0m\u001b[0m\n\u001b[0m\u001b[0;32m    483\u001b[0m \u001b[1;33m\u001b[0m\u001b[0m\n\u001b[0;32m    484\u001b[0m     \u001b[1;32mif\u001b[0m \u001b[0mchunksize\u001b[0m \u001b[1;32mor\u001b[0m \u001b[0miterator\u001b[0m\u001b[1;33m:\u001b[0m\u001b[1;33m\u001b[0m\u001b[1;33m\u001b[0m\u001b[0m\n",
      "\u001b[1;32md:\\Data Analysis\\House Price Prediction\\venv\\lib\\site-packages\\pandas\\io\\parsers\\readers.py\u001b[0m in \u001b[0;36m__init__\u001b[1;34m(self, f, engine, **kwds)\u001b[0m\n\u001b[0;32m    809\u001b[0m             \u001b[0mself\u001b[0m\u001b[1;33m.\u001b[0m\u001b[0moptions\u001b[0m\u001b[1;33m[\u001b[0m\u001b[1;34m\"has_index_names\"\u001b[0m\u001b[1;33m]\u001b[0m \u001b[1;33m=\u001b[0m \u001b[0mkwds\u001b[0m\u001b[1;33m[\u001b[0m\u001b[1;34m\"has_index_names\"\u001b[0m\u001b[1;33m]\u001b[0m\u001b[1;33m\u001b[0m\u001b[1;33m\u001b[0m\u001b[0m\n\u001b[0;32m    810\u001b[0m \u001b[1;33m\u001b[0m\u001b[0m\n\u001b[1;32m--> 811\u001b[1;33m         \u001b[0mself\u001b[0m\u001b[1;33m.\u001b[0m\u001b[0m_engine\u001b[0m \u001b[1;33m=\u001b[0m \u001b[0mself\u001b[0m\u001b[1;33m.\u001b[0m\u001b[0m_make_engine\u001b[0m\u001b[1;33m(\u001b[0m\u001b[0mself\u001b[0m\u001b[1;33m.\u001b[0m\u001b[0mengine\u001b[0m\u001b[1;33m)\u001b[0m\u001b[1;33m\u001b[0m\u001b[1;33m\u001b[0m\u001b[0m\n\u001b[0m\u001b[0;32m    812\u001b[0m \u001b[1;33m\u001b[0m\u001b[0m\n\u001b[0;32m    813\u001b[0m     \u001b[1;32mdef\u001b[0m \u001b[0mclose\u001b[0m\u001b[1;33m(\u001b[0m\u001b[0mself\u001b[0m\u001b[1;33m)\u001b[0m\u001b[1;33m:\u001b[0m\u001b[1;33m\u001b[0m\u001b[1;33m\u001b[0m\u001b[0m\n",
      "\u001b[1;32md:\\Data Analysis\\House Price Prediction\\venv\\lib\\site-packages\\pandas\\io\\parsers\\readers.py\u001b[0m in \u001b[0;36m_make_engine\u001b[1;34m(self, engine)\u001b[0m\n\u001b[0;32m   1038\u001b[0m             )\n\u001b[0;32m   1039\u001b[0m         \u001b[1;31m# error: Too many arguments for \"ParserBase\"\u001b[0m\u001b[1;33m\u001b[0m\u001b[1;33m\u001b[0m\u001b[1;33m\u001b[0m\u001b[0m\n\u001b[1;32m-> 1040\u001b[1;33m         \u001b[1;32mreturn\u001b[0m \u001b[0mmapping\u001b[0m\u001b[1;33m[\u001b[0m\u001b[0mengine\u001b[0m\u001b[1;33m]\u001b[0m\u001b[1;33m(\u001b[0m\u001b[0mself\u001b[0m\u001b[1;33m.\u001b[0m\u001b[0mf\u001b[0m\u001b[1;33m,\u001b[0m \u001b[1;33m**\u001b[0m\u001b[0mself\u001b[0m\u001b[1;33m.\u001b[0m\u001b[0moptions\u001b[0m\u001b[1;33m)\u001b[0m  \u001b[1;31m# type: ignore[call-arg]\u001b[0m\u001b[1;33m\u001b[0m\u001b[1;33m\u001b[0m\u001b[0m\n\u001b[0m\u001b[0;32m   1041\u001b[0m \u001b[1;33m\u001b[0m\u001b[0m\n\u001b[0;32m   1042\u001b[0m     \u001b[1;32mdef\u001b[0m \u001b[0m_failover_to_python\u001b[0m\u001b[1;33m(\u001b[0m\u001b[0mself\u001b[0m\u001b[1;33m)\u001b[0m\u001b[1;33m:\u001b[0m\u001b[1;33m\u001b[0m\u001b[1;33m\u001b[0m\u001b[0m\n",
      "\u001b[1;32md:\\Data Analysis\\House Price Prediction\\venv\\lib\\site-packages\\pandas\\io\\parsers\\c_parser_wrapper.py\u001b[0m in \u001b[0;36m__init__\u001b[1;34m(self, src, **kwds)\u001b[0m\n\u001b[0;32m     49\u001b[0m \u001b[1;33m\u001b[0m\u001b[0m\n\u001b[0;32m     50\u001b[0m         \u001b[1;31m# open handles\u001b[0m\u001b[1;33m\u001b[0m\u001b[1;33m\u001b[0m\u001b[1;33m\u001b[0m\u001b[0m\n\u001b[1;32m---> 51\u001b[1;33m         \u001b[0mself\u001b[0m\u001b[1;33m.\u001b[0m\u001b[0m_open_handles\u001b[0m\u001b[1;33m(\u001b[0m\u001b[0msrc\u001b[0m\u001b[1;33m,\u001b[0m \u001b[0mkwds\u001b[0m\u001b[1;33m)\u001b[0m\u001b[1;33m\u001b[0m\u001b[1;33m\u001b[0m\u001b[0m\n\u001b[0m\u001b[0;32m     52\u001b[0m         \u001b[1;32massert\u001b[0m \u001b[0mself\u001b[0m\u001b[1;33m.\u001b[0m\u001b[0mhandles\u001b[0m \u001b[1;32mis\u001b[0m \u001b[1;32mnot\u001b[0m \u001b[1;32mNone\u001b[0m\u001b[1;33m\u001b[0m\u001b[1;33m\u001b[0m\u001b[0m\n\u001b[0;32m     53\u001b[0m \u001b[1;33m\u001b[0m\u001b[0m\n",
      "\u001b[1;32md:\\Data Analysis\\House Price Prediction\\venv\\lib\\site-packages\\pandas\\io\\parsers\\base_parser.py\u001b[0m in \u001b[0;36m_open_handles\u001b[1;34m(self, src, kwds)\u001b[0m\n\u001b[0;32m    220\u001b[0m         \u001b[0mLet\u001b[0m \u001b[0mthe\u001b[0m \u001b[0mreaders\u001b[0m \u001b[0mopen\u001b[0m \u001b[0mIOHandles\u001b[0m \u001b[0mafter\u001b[0m \u001b[0mthey\u001b[0m \u001b[0mare\u001b[0m \u001b[0mdone\u001b[0m \u001b[1;32mwith\u001b[0m \u001b[0mtheir\u001b[0m \u001b[0mpotential\u001b[0m \u001b[0mraises\u001b[0m\u001b[1;33m.\u001b[0m\u001b[1;33m\u001b[0m\u001b[1;33m\u001b[0m\u001b[0m\n\u001b[0;32m    221\u001b[0m         \"\"\"\n\u001b[1;32m--> 222\u001b[1;33m         self.handles = get_handle(\n\u001b[0m\u001b[0;32m    223\u001b[0m             \u001b[0msrc\u001b[0m\u001b[1;33m,\u001b[0m\u001b[1;33m\u001b[0m\u001b[1;33m\u001b[0m\u001b[0m\n\u001b[0;32m    224\u001b[0m             \u001b[1;34m\"r\"\u001b[0m\u001b[1;33m,\u001b[0m\u001b[1;33m\u001b[0m\u001b[1;33m\u001b[0m\u001b[0m\n",
      "\u001b[1;32md:\\Data Analysis\\House Price Prediction\\venv\\lib\\site-packages\\pandas\\io\\common.py\u001b[0m in \u001b[0;36mget_handle\u001b[1;34m(path_or_buf, mode, encoding, compression, memory_map, is_text, errors, storage_options)\u001b[0m\n\u001b[0;32m    699\u001b[0m         \u001b[1;32mif\u001b[0m \u001b[0mioargs\u001b[0m\u001b[1;33m.\u001b[0m\u001b[0mencoding\u001b[0m \u001b[1;32mand\u001b[0m \u001b[1;34m\"b\"\u001b[0m \u001b[1;32mnot\u001b[0m \u001b[1;32min\u001b[0m \u001b[0mioargs\u001b[0m\u001b[1;33m.\u001b[0m\u001b[0mmode\u001b[0m\u001b[1;33m:\u001b[0m\u001b[1;33m\u001b[0m\u001b[1;33m\u001b[0m\u001b[0m\n\u001b[0;32m    700\u001b[0m             \u001b[1;31m# Encoding\u001b[0m\u001b[1;33m\u001b[0m\u001b[1;33m\u001b[0m\u001b[1;33m\u001b[0m\u001b[0m\n\u001b[1;32m--> 701\u001b[1;33m             handle = open(\n\u001b[0m\u001b[0;32m    702\u001b[0m                 \u001b[0mhandle\u001b[0m\u001b[1;33m,\u001b[0m\u001b[1;33m\u001b[0m\u001b[1;33m\u001b[0m\u001b[0m\n\u001b[0;32m    703\u001b[0m                 \u001b[0mioargs\u001b[0m\u001b[1;33m.\u001b[0m\u001b[0mmode\u001b[0m\u001b[1;33m,\u001b[0m\u001b[1;33m\u001b[0m\u001b[1;33m\u001b[0m\u001b[0m\n",
      "\u001b[1;31mFileNotFoundError\u001b[0m: [Errno 2] No such file or directory: 'parkinsons.data'"
     ]
    }
   ],
   "metadata": {}
  },
  {
   "cell_type": "code",
   "execution_count": 3,
   "source": [
    "dataframedata.head(10)"
   ],
   "outputs": [
    {
     "output_type": "execute_result",
     "data": {
      "text/html": [
       "<div>\n",
       "<style scoped>\n",
       "    .dataframe tbody tr th:only-of-type {\n",
       "        vertical-align: middle;\n",
       "    }\n",
       "\n",
       "    .dataframe tbody tr th {\n",
       "        vertical-align: top;\n",
       "    }\n",
       "\n",
       "    .dataframe thead th {\n",
       "        text-align: right;\n",
       "    }\n",
       "</style>\n",
       "<table border=\"1\" class=\"dataframe\">\n",
       "  <thead>\n",
       "    <tr style=\"text-align: right;\">\n",
       "      <th></th>\n",
       "      <th>name</th>\n",
       "      <th>MDVP:Fo(Hz)</th>\n",
       "      <th>MDVP:Fhi(Hz)</th>\n",
       "      <th>MDVP:Flo(Hz)</th>\n",
       "      <th>MDVP:Jitter(%)</th>\n",
       "      <th>MDVP:Jitter(Abs)</th>\n",
       "      <th>MDVP:RAP</th>\n",
       "      <th>MDVP:PPQ</th>\n",
       "      <th>Jitter:DDP</th>\n",
       "      <th>MDVP:Shimmer</th>\n",
       "      <th>...</th>\n",
       "      <th>Shimmer:DDA</th>\n",
       "      <th>NHR</th>\n",
       "      <th>HNR</th>\n",
       "      <th>status</th>\n",
       "      <th>RPDE</th>\n",
       "      <th>DFA</th>\n",
       "      <th>spread1</th>\n",
       "      <th>spread2</th>\n",
       "      <th>D2</th>\n",
       "      <th>PPE</th>\n",
       "    </tr>\n",
       "  </thead>\n",
       "  <tbody>\n",
       "    <tr>\n",
       "      <th>0</th>\n",
       "      <td>phon_R01_S01_1</td>\n",
       "      <td>119.992</td>\n",
       "      <td>157.302</td>\n",
       "      <td>74.997</td>\n",
       "      <td>0.00784</td>\n",
       "      <td>0.00007</td>\n",
       "      <td>0.00370</td>\n",
       "      <td>0.00554</td>\n",
       "      <td>0.01109</td>\n",
       "      <td>0.04374</td>\n",
       "      <td>...</td>\n",
       "      <td>0.06545</td>\n",
       "      <td>0.02211</td>\n",
       "      <td>21.033</td>\n",
       "      <td>1</td>\n",
       "      <td>0.414783</td>\n",
       "      <td>0.815285</td>\n",
       "      <td>-4.813031</td>\n",
       "      <td>0.266482</td>\n",
       "      <td>2.301442</td>\n",
       "      <td>0.284654</td>\n",
       "    </tr>\n",
       "    <tr>\n",
       "      <th>1</th>\n",
       "      <td>phon_R01_S01_2</td>\n",
       "      <td>122.400</td>\n",
       "      <td>148.650</td>\n",
       "      <td>113.819</td>\n",
       "      <td>0.00968</td>\n",
       "      <td>0.00008</td>\n",
       "      <td>0.00465</td>\n",
       "      <td>0.00696</td>\n",
       "      <td>0.01394</td>\n",
       "      <td>0.06134</td>\n",
       "      <td>...</td>\n",
       "      <td>0.09403</td>\n",
       "      <td>0.01929</td>\n",
       "      <td>19.085</td>\n",
       "      <td>1</td>\n",
       "      <td>0.458359</td>\n",
       "      <td>0.819521</td>\n",
       "      <td>-4.075192</td>\n",
       "      <td>0.335590</td>\n",
       "      <td>2.486855</td>\n",
       "      <td>0.368674</td>\n",
       "    </tr>\n",
       "    <tr>\n",
       "      <th>2</th>\n",
       "      <td>phon_R01_S01_3</td>\n",
       "      <td>116.682</td>\n",
       "      <td>131.111</td>\n",
       "      <td>111.555</td>\n",
       "      <td>0.01050</td>\n",
       "      <td>0.00009</td>\n",
       "      <td>0.00544</td>\n",
       "      <td>0.00781</td>\n",
       "      <td>0.01633</td>\n",
       "      <td>0.05233</td>\n",
       "      <td>...</td>\n",
       "      <td>0.08270</td>\n",
       "      <td>0.01309</td>\n",
       "      <td>20.651</td>\n",
       "      <td>1</td>\n",
       "      <td>0.429895</td>\n",
       "      <td>0.825288</td>\n",
       "      <td>-4.443179</td>\n",
       "      <td>0.311173</td>\n",
       "      <td>2.342259</td>\n",
       "      <td>0.332634</td>\n",
       "    </tr>\n",
       "    <tr>\n",
       "      <th>3</th>\n",
       "      <td>phon_R01_S01_4</td>\n",
       "      <td>116.676</td>\n",
       "      <td>137.871</td>\n",
       "      <td>111.366</td>\n",
       "      <td>0.00997</td>\n",
       "      <td>0.00009</td>\n",
       "      <td>0.00502</td>\n",
       "      <td>0.00698</td>\n",
       "      <td>0.01505</td>\n",
       "      <td>0.05492</td>\n",
       "      <td>...</td>\n",
       "      <td>0.08771</td>\n",
       "      <td>0.01353</td>\n",
       "      <td>20.644</td>\n",
       "      <td>1</td>\n",
       "      <td>0.434969</td>\n",
       "      <td>0.819235</td>\n",
       "      <td>-4.117501</td>\n",
       "      <td>0.334147</td>\n",
       "      <td>2.405554</td>\n",
       "      <td>0.368975</td>\n",
       "    </tr>\n",
       "    <tr>\n",
       "      <th>4</th>\n",
       "      <td>phon_R01_S01_5</td>\n",
       "      <td>116.014</td>\n",
       "      <td>141.781</td>\n",
       "      <td>110.655</td>\n",
       "      <td>0.01284</td>\n",
       "      <td>0.00011</td>\n",
       "      <td>0.00655</td>\n",
       "      <td>0.00908</td>\n",
       "      <td>0.01966</td>\n",
       "      <td>0.06425</td>\n",
       "      <td>...</td>\n",
       "      <td>0.10470</td>\n",
       "      <td>0.01767</td>\n",
       "      <td>19.649</td>\n",
       "      <td>1</td>\n",
       "      <td>0.417356</td>\n",
       "      <td>0.823484</td>\n",
       "      <td>-3.747787</td>\n",
       "      <td>0.234513</td>\n",
       "      <td>2.332180</td>\n",
       "      <td>0.410335</td>\n",
       "    </tr>\n",
       "  </tbody>\n",
       "</table>\n",
       "<p>5 rows × 24 columns</p>\n",
       "</div>"
      ],
      "text/plain": [
       "             name  MDVP:Fo(Hz)  MDVP:Fhi(Hz)  MDVP:Flo(Hz)  MDVP:Jitter(%)  \\\n",
       "0  phon_R01_S01_1      119.992       157.302        74.997         0.00784   \n",
       "1  phon_R01_S01_2      122.400       148.650       113.819         0.00968   \n",
       "2  phon_R01_S01_3      116.682       131.111       111.555         0.01050   \n",
       "3  phon_R01_S01_4      116.676       137.871       111.366         0.00997   \n",
       "4  phon_R01_S01_5      116.014       141.781       110.655         0.01284   \n",
       "\n",
       "   MDVP:Jitter(Abs)  MDVP:RAP  MDVP:PPQ  Jitter:DDP  MDVP:Shimmer  ...  \\\n",
       "0           0.00007   0.00370   0.00554     0.01109       0.04374  ...   \n",
       "1           0.00008   0.00465   0.00696     0.01394       0.06134  ...   \n",
       "2           0.00009   0.00544   0.00781     0.01633       0.05233  ...   \n",
       "3           0.00009   0.00502   0.00698     0.01505       0.05492  ...   \n",
       "4           0.00011   0.00655   0.00908     0.01966       0.06425  ...   \n",
       "\n",
       "   Shimmer:DDA      NHR     HNR  status      RPDE       DFA   spread1  \\\n",
       "0      0.06545  0.02211  21.033       1  0.414783  0.815285 -4.813031   \n",
       "1      0.09403  0.01929  19.085       1  0.458359  0.819521 -4.075192   \n",
       "2      0.08270  0.01309  20.651       1  0.429895  0.825288 -4.443179   \n",
       "3      0.08771  0.01353  20.644       1  0.434969  0.819235 -4.117501   \n",
       "4      0.10470  0.01767  19.649       1  0.417356  0.823484 -3.747787   \n",
       "\n",
       "    spread2        D2       PPE  \n",
       "0  0.266482  2.301442  0.284654  \n",
       "1  0.335590  2.486855  0.368674  \n",
       "2  0.311173  2.342259  0.332634  \n",
       "3  0.334147  2.405554  0.368975  \n",
       "4  0.234513  2.332180  0.410335  \n",
       "\n",
       "[5 rows x 24 columns]"
      ]
     },
     "metadata": {},
     "execution_count": 3
    }
   ],
   "metadata": {}
  },
  {
   "cell_type": "code",
   "execution_count": 4,
   "source": [
    "dataframedata.shape"
   ],
   "outputs": [
    {
     "output_type": "execute_result",
     "data": {
      "text/plain": [
       "(195, 24)"
      ]
     },
     "metadata": {},
     "execution_count": 4
    }
   ],
   "metadata": {}
  },
  {
   "cell_type": "code",
   "execution_count": 5,
   "source": [
    "dataframedata.columns"
   ],
   "outputs": [
    {
     "output_type": "execute_result",
     "data": {
      "text/plain": [
       "Index(['name', 'MDVP:Fo(Hz)', 'MDVP:Fhi(Hz)', 'MDVP:Flo(Hz)', 'MDVP:Jitter(%)',\n",
       "       'MDVP:Jitter(Abs)', 'MDVP:RAP', 'MDVP:PPQ', 'Jitter:DDP',\n",
       "       'MDVP:Shimmer', 'MDVP:Shimmer(dB)', 'Shimmer:APQ3', 'Shimmer:APQ5',\n",
       "       'MDVP:APQ', 'Shimmer:DDA', 'NHR', 'HNR', 'status', 'RPDE', 'DFA',\n",
       "       'spread1', 'spread2', 'D2', 'PPE'],\n",
       "      dtype='object')"
      ]
     },
     "metadata": {},
     "execution_count": 5
    }
   ],
   "metadata": {}
  },
  {
   "cell_type": "markdown",
   "source": [
    "## Second data file"
   ],
   "metadata": {}
  },
  {
   "cell_type": "code",
   "execution_count": 6,
   "source": [
    "dataframe = pd.read_csv(r'parkinsons_updrs.data')"
   ],
   "outputs": [],
   "metadata": {}
  },
  {
   "cell_type": "code",
   "execution_count": 7,
   "source": [
    "dataframe.columns"
   ],
   "outputs": [
    {
     "output_type": "execute_result",
     "data": {
      "text/plain": [
       "Index(['subject#', 'age', 'sex', 'test_time', 'motor_UPDRS', 'total_UPDRS',\n",
       "       'Jitter(%)', 'Jitter(Abs)', 'Jitter:RAP', 'Jitter:PPQ5', 'Jitter:DDP',\n",
       "       'Shimmer', 'Shimmer(dB)', 'Shimmer:APQ3', 'Shimmer:APQ5',\n",
       "       'Shimmer:APQ11', 'Shimmer:DDA', 'NHR', 'HNR', 'RPDE', 'DFA', 'PPE'],\n",
       "      dtype='object')"
      ]
     },
     "metadata": {},
     "execution_count": 7
    }
   ],
   "metadata": {}
  },
  {
   "cell_type": "markdown",
   "source": [
    "## Here in the above file (parkinsons_updrs.data) target variable is not present hence we cannot use this file for ML algorithms. So dropping this file."
   ],
   "metadata": {}
  },
  {
   "cell_type": "markdown",
   "source": [
    "## Third data file"
   ],
   "metadata": {}
  },
  {
   "cell_type": "code",
   "execution_count": 8,
   "source": [
    "dataframepd = pd.read_csv(r'pd_speech_features.csv')\r\n",
    "dataframepd.head()"
   ],
   "outputs": [
    {
     "output_type": "execute_result",
     "data": {
      "text/html": [
       "<div>\n",
       "<style scoped>\n",
       "    .dataframe tbody tr th:only-of-type {\n",
       "        vertical-align: middle;\n",
       "    }\n",
       "\n",
       "    .dataframe tbody tr th {\n",
       "        vertical-align: top;\n",
       "    }\n",
       "\n",
       "    .dataframe thead th {\n",
       "        text-align: right;\n",
       "    }\n",
       "</style>\n",
       "<table border=\"1\" class=\"dataframe\">\n",
       "  <thead>\n",
       "    <tr style=\"text-align: right;\">\n",
       "      <th></th>\n",
       "      <th>id</th>\n",
       "      <th>gender</th>\n",
       "      <th>PPE</th>\n",
       "      <th>DFA</th>\n",
       "      <th>RPDE</th>\n",
       "      <th>numPulses</th>\n",
       "      <th>numPeriodsPulses</th>\n",
       "      <th>meanPeriodPulses</th>\n",
       "      <th>stdDevPeriodPulses</th>\n",
       "      <th>locPctJitter</th>\n",
       "      <th>...</th>\n",
       "      <th>tqwt_kurtosisValue_dec_28</th>\n",
       "      <th>tqwt_kurtosisValue_dec_29</th>\n",
       "      <th>tqwt_kurtosisValue_dec_30</th>\n",
       "      <th>tqwt_kurtosisValue_dec_31</th>\n",
       "      <th>tqwt_kurtosisValue_dec_32</th>\n",
       "      <th>tqwt_kurtosisValue_dec_33</th>\n",
       "      <th>tqwt_kurtosisValue_dec_34</th>\n",
       "      <th>tqwt_kurtosisValue_dec_35</th>\n",
       "      <th>tqwt_kurtosisValue_dec_36</th>\n",
       "      <th>class</th>\n",
       "    </tr>\n",
       "  </thead>\n",
       "  <tbody>\n",
       "    <tr>\n",
       "      <th>0</th>\n",
       "      <td>0</td>\n",
       "      <td>1</td>\n",
       "      <td>0.85247</td>\n",
       "      <td>0.71826</td>\n",
       "      <td>0.57227</td>\n",
       "      <td>240</td>\n",
       "      <td>239</td>\n",
       "      <td>0.008064</td>\n",
       "      <td>0.000087</td>\n",
       "      <td>0.00218</td>\n",
       "      <td>...</td>\n",
       "      <td>1.5620</td>\n",
       "      <td>2.6445</td>\n",
       "      <td>3.8686</td>\n",
       "      <td>4.2105</td>\n",
       "      <td>5.1221</td>\n",
       "      <td>4.4625</td>\n",
       "      <td>2.6202</td>\n",
       "      <td>3.0004</td>\n",
       "      <td>18.9405</td>\n",
       "      <td>1</td>\n",
       "    </tr>\n",
       "    <tr>\n",
       "      <th>1</th>\n",
       "      <td>0</td>\n",
       "      <td>1</td>\n",
       "      <td>0.76686</td>\n",
       "      <td>0.69481</td>\n",
       "      <td>0.53966</td>\n",
       "      <td>234</td>\n",
       "      <td>233</td>\n",
       "      <td>0.008258</td>\n",
       "      <td>0.000073</td>\n",
       "      <td>0.00195</td>\n",
       "      <td>...</td>\n",
       "      <td>1.5589</td>\n",
       "      <td>3.6107</td>\n",
       "      <td>23.5155</td>\n",
       "      <td>14.1962</td>\n",
       "      <td>11.0261</td>\n",
       "      <td>9.5082</td>\n",
       "      <td>6.5245</td>\n",
       "      <td>6.3431</td>\n",
       "      <td>45.1780</td>\n",
       "      <td>1</td>\n",
       "    </tr>\n",
       "  </tbody>\n",
       "</table>\n",
       "<p>2 rows × 755 columns</p>\n",
       "</div>"
      ],
      "text/plain": [
       "   id  gender      PPE      DFA     RPDE  numPulses  numPeriodsPulses  \\\n",
       "0   0       1  0.85247  0.71826  0.57227        240               239   \n",
       "1   0       1  0.76686  0.69481  0.53966        234               233   \n",
       "\n",
       "   meanPeriodPulses  stdDevPeriodPulses  locPctJitter  ...  \\\n",
       "0          0.008064            0.000087       0.00218  ...   \n",
       "1          0.008258            0.000073       0.00195  ...   \n",
       "\n",
       "   tqwt_kurtosisValue_dec_28  tqwt_kurtosisValue_dec_29  \\\n",
       "0                     1.5620                     2.6445   \n",
       "1                     1.5589                     3.6107   \n",
       "\n",
       "   tqwt_kurtosisValue_dec_30  tqwt_kurtosisValue_dec_31  \\\n",
       "0                     3.8686                     4.2105   \n",
       "1                    23.5155                    14.1962   \n",
       "\n",
       "   tqwt_kurtosisValue_dec_32  tqwt_kurtosisValue_dec_33  \\\n",
       "0                     5.1221                     4.4625   \n",
       "1                    11.0261                     9.5082   \n",
       "\n",
       "   tqwt_kurtosisValue_dec_34  tqwt_kurtosisValue_dec_35  \\\n",
       "0                     2.6202                     3.0004   \n",
       "1                     6.5245                     6.3431   \n",
       "\n",
       "   tqwt_kurtosisValue_dec_36  class  \n",
       "0                    18.9405      1  \n",
       "1                    45.1780      1  \n",
       "\n",
       "[2 rows x 755 columns]"
      ]
     },
     "metadata": {},
     "execution_count": 8
    }
   ],
   "metadata": {}
  },
  {
   "cell_type": "markdown",
   "source": [
    "## Dropping independent columns"
   ],
   "metadata": {}
  },
  {
   "cell_type": "code",
   "execution_count": 9,
   "source": [
    "independent = dataframepd.drop(dataframepd.iloc[:, 100:754], axis = 1)"
   ],
   "outputs": [],
   "metadata": {}
  },
  {
   "cell_type": "code",
   "execution_count": 10,
   "source": [
    "independent.iloc[0:2,0:]"
   ],
   "outputs": [
    {
     "output_type": "execute_result",
     "data": {
      "text/html": [
       "<div>\n",
       "<style scoped>\n",
       "    .dataframe tbody tr th:only-of-type {\n",
       "        vertical-align: middle;\n",
       "    }\n",
       "\n",
       "    .dataframe tbody tr th {\n",
       "        vertical-align: top;\n",
       "    }\n",
       "\n",
       "    .dataframe thead th {\n",
       "        text-align: right;\n",
       "    }\n",
       "</style>\n",
       "<table border=\"1\" class=\"dataframe\">\n",
       "  <thead>\n",
       "    <tr style=\"text-align: right;\">\n",
       "      <th></th>\n",
       "      <th>id</th>\n",
       "      <th>gender</th>\n",
       "      <th>PPE</th>\n",
       "      <th>DFA</th>\n",
       "      <th>RPDE</th>\n",
       "      <th>numPulses</th>\n",
       "      <th>numPeriodsPulses</th>\n",
       "      <th>meanPeriodPulses</th>\n",
       "      <th>stdDevPeriodPulses</th>\n",
       "      <th>locPctJitter</th>\n",
       "      <th>...</th>\n",
       "      <th>mean_6th_delta_delta</th>\n",
       "      <th>mean_7th_delta_delta</th>\n",
       "      <th>mean_8th_delta_delta</th>\n",
       "      <th>mean_9th_delta_delta</th>\n",
       "      <th>mean_10th_delta_delta</th>\n",
       "      <th>mean_11th_delta_delta</th>\n",
       "      <th>mean_12th_delta_delta</th>\n",
       "      <th>std_Log_energy</th>\n",
       "      <th>std_MFCC_0th_coef</th>\n",
       "      <th>class</th>\n",
       "    </tr>\n",
       "  </thead>\n",
       "  <tbody>\n",
       "    <tr>\n",
       "      <th>0</th>\n",
       "      <td>0</td>\n",
       "      <td>1</td>\n",
       "      <td>0.85247</td>\n",
       "      <td>0.71826</td>\n",
       "      <td>0.57227</td>\n",
       "      <td>240</td>\n",
       "      <td>239</td>\n",
       "      <td>0.008064</td>\n",
       "      <td>0.000087</td>\n",
       "      <td>0.00218</td>\n",
       "      <td>...</td>\n",
       "      <td>-0.000044</td>\n",
       "      <td>-0.000338</td>\n",
       "      <td>0.000430</td>\n",
       "      <td>0.000038</td>\n",
       "      <td>-0.000356</td>\n",
       "      <td>-0.000076</td>\n",
       "      <td>0.000027</td>\n",
       "      <td>0.34158</td>\n",
       "      <td>1.02790</td>\n",
       "      <td>1</td>\n",
       "    </tr>\n",
       "    <tr>\n",
       "      <th>1</th>\n",
       "      <td>0</td>\n",
       "      <td>1</td>\n",
       "      <td>0.76686</td>\n",
       "      <td>0.69481</td>\n",
       "      <td>0.53966</td>\n",
       "      <td>234</td>\n",
       "      <td>233</td>\n",
       "      <td>0.008258</td>\n",
       "      <td>0.000073</td>\n",
       "      <td>0.00195</td>\n",
       "      <td>...</td>\n",
       "      <td>-0.000614</td>\n",
       "      <td>-0.000112</td>\n",
       "      <td>-0.000072</td>\n",
       "      <td>0.000252</td>\n",
       "      <td>0.000260</td>\n",
       "      <td>0.000691</td>\n",
       "      <td>-0.000109</td>\n",
       "      <td>0.22994</td>\n",
       "      <td>0.92018</td>\n",
       "      <td>1</td>\n",
       "    </tr>\n",
       "  </tbody>\n",
       "</table>\n",
       "<p>2 rows × 101 columns</p>\n",
       "</div>"
      ],
      "text/plain": [
       "   id  gender      PPE      DFA     RPDE  numPulses  numPeriodsPulses  \\\n",
       "0   0       1  0.85247  0.71826  0.57227        240               239   \n",
       "1   0       1  0.76686  0.69481  0.53966        234               233   \n",
       "\n",
       "   meanPeriodPulses  stdDevPeriodPulses  locPctJitter  ...  \\\n",
       "0          0.008064            0.000087       0.00218  ...   \n",
       "1          0.008258            0.000073       0.00195  ...   \n",
       "\n",
       "   mean_6th_delta_delta  mean_7th_delta_delta  mean_8th_delta_delta  \\\n",
       "0             -0.000044             -0.000338              0.000430   \n",
       "1             -0.000614             -0.000112             -0.000072   \n",
       "\n",
       "   mean_9th_delta_delta  mean_10th_delta_delta  mean_11th_delta_delta  \\\n",
       "0              0.000038              -0.000356              -0.000076   \n",
       "1              0.000252               0.000260               0.000691   \n",
       "\n",
       "   mean_12th_delta_delta  std_Log_energy  std_MFCC_0th_coef  class  \n",
       "0               0.000027         0.34158            1.02790      1  \n",
       "1              -0.000109         0.22994            0.92018      1  \n",
       "\n",
       "[2 rows x 101 columns]"
      ]
     },
     "metadata": {},
     "execution_count": 10
    }
   ],
   "metadata": {}
  },
  {
   "cell_type": "code",
   "execution_count": 11,
   "source": [
    "independent.columns"
   ],
   "outputs": [
    {
     "output_type": "execute_result",
     "data": {
      "text/plain": [
       "Index(['id', 'gender', 'PPE', 'DFA', 'RPDE', 'numPulses', 'numPeriodsPulses',\n",
       "       'meanPeriodPulses', 'stdDevPeriodPulses', 'locPctJitter',\n",
       "       ...\n",
       "       'mean_6th_delta_delta', 'mean_7th_delta_delta', 'mean_8th_delta_delta',\n",
       "       'mean_9th_delta_delta', 'mean_10th_delta_delta',\n",
       "       'mean_11th_delta_delta', 'mean_12th_delta_delta', 'std_Log_energy',\n",
       "       'std_MFCC_0th_coef', 'class'],\n",
       "      dtype='object', length=101)"
      ]
     },
     "metadata": {},
     "execution_count": 11
    }
   ],
   "metadata": {}
  },
  {
   "cell_type": "code",
   "execution_count": 12,
   "source": [
    "independent.drop(X.iloc[:,85:98], inplace= True, axis=1)"
   ],
   "outputs": [],
   "metadata": {}
  },
  {
   "cell_type": "code",
   "execution_count": 13,
   "source": [
    "independent.drop(independent.iloc[:,71:84], inplace= True, axis=1)"
   ],
   "outputs": [],
   "metadata": {}
  },
  {
   "cell_type": "code",
   "execution_count": 14,
   "source": [
    "independent.drop(independent.iloc[:,58:70], inplace= True, axis=1)"
   ],
   "outputs": [],
   "metadata": {}
  },
  {
   "cell_type": "code",
   "execution_count": 15,
   "source": [
    "independent.drop(independent.iloc[:,36:56], inplace= True, axis=1)"
   ],
   "outputs": [],
   "metadata": {}
  },
  {
   "cell_type": "code",
   "execution_count": 16,
   "source": [
    "independent.drop(independent.iloc[:,23:36], inplace= True, axis=1)"
   ],
   "outputs": [],
   "metadata": {}
  },
  {
   "cell_type": "code",
   "execution_count": 17,
   "source": [
    "independent.columns"
   ],
   "outputs": [
    {
     "output_type": "execute_result",
     "data": {
      "text/plain": [
       "Index(['id', 'gender', 'PPE', 'DFA', 'RPDE', 'numPulses', 'numPeriodsPulses',\n",
       "       'meanPeriodPulses', 'stdDevPeriodPulses', 'locPctJitter',\n",
       "       'locAbsJitter', 'rapJitter', 'ppq5Jitter', 'ddpJitter', 'locShimmer',\n",
       "       'locDbShimmer', 'apq3Shimmer', 'apq5Shimmer', 'apq11Shimmer',\n",
       "       'ddaShimmer', 'meanAutoCorrHarmonicity', 'meanNoiseToHarmHarmonicity',\n",
       "       'meanHarmToNoiseHarmonicity', 'mean_Log_energy', 'mean_MFCC_0th_coef',\n",
       "       'mean_delta_log_energy', 'mean_delta_delta_log_energy',\n",
       "       'std_Log_energy', 'std_MFCC_0th_coef', 'class'],\n",
       "      dtype='object')"
      ]
     },
     "metadata": {},
     "execution_count": 17
    }
   ],
   "metadata": {}
  },
  {
   "cell_type": "code",
   "execution_count": 18,
   "source": [
    "independent.drop('apq11Shimmer', inplace= True, axis=1)"
   ],
   "outputs": [],
   "metadata": {}
  },
  {
   "cell_type": "code",
   "execution_count": 19,
   "source": [
    "independent.drop('gender', inplace= True, axis=1)"
   ],
   "outputs": [],
   "metadata": {}
  },
  {
   "cell_type": "code",
   "execution_count": 20,
   "source": [
    "independent.columns"
   ],
   "outputs": [
    {
     "output_type": "execute_result",
     "data": {
      "text/plain": [
       "Index(['id', 'PPE', 'DFA', 'RPDE', 'numPulses', 'numPeriodsPulses',\n",
       "       'meanPeriodPulses', 'stdDevPeriodPulses', 'locPctJitter',\n",
       "       'locAbsJitter', 'rapJitter', 'ppq5Jitter', 'ddpJitter', 'locShimmer',\n",
       "       'locDbShimmer', 'apq3Shimmer', 'apq5Shimmer', 'ddaShimmer',\n",
       "       'meanAutoCorrHarmonicity', 'meanNoiseToHarmHarmonicity',\n",
       "       'meanHarmToNoiseHarmonicity', 'mean_Log_energy', 'mean_MFCC_0th_coef',\n",
       "       'mean_delta_log_energy', 'mean_delta_delta_log_energy',\n",
       "       'std_Log_energy', 'std_MFCC_0th_coef', 'class'],\n",
       "      dtype='object')"
      ]
     },
     "metadata": {},
     "execution_count": 20
    }
   ],
   "metadata": {}
  },
  {
   "cell_type": "code",
   "execution_count": 21,
   "source": [
    "independent.drop(X.iloc[:,4:8], inplace= True, axis=1)"
   ],
   "outputs": [],
   "metadata": {}
  },
  {
   "cell_type": "code",
   "execution_count": 22,
   "source": [
    "independent.columns"
   ],
   "outputs": [
    {
     "output_type": "execute_result",
     "data": {
      "text/plain": [
       "Index(['id', 'PPE', 'DFA', 'RPDE', 'locPctJitter', 'locAbsJitter', 'rapJitter',\n",
       "       'ppq5Jitter', 'ddpJitter', 'locShimmer', 'locDbShimmer', 'apq3Shimmer',\n",
       "       'apq5Shimmer', 'ddaShimmer', 'meanAutoCorrHarmonicity',\n",
       "       'meanNoiseToHarmHarmonicity', 'meanHarmToNoiseHarmonicity',\n",
       "       'mean_Log_energy', 'mean_MFCC_0th_coef', 'mean_delta_log_energy',\n",
       "       'mean_delta_delta_log_energy', 'std_Log_energy', 'std_MFCC_0th_coef',\n",
       "       'class'],\n",
       "      dtype='object')"
      ]
     },
     "metadata": {},
     "execution_count": 22
    }
   ],
   "metadata": {}
  },
  {
   "cell_type": "code",
   "execution_count": 23,
   "source": [
    "independent.drop(['meanAutoCorrHarmonicity','mean_Log_energy', 'mean_MFCC_0th_coef', 'mean_delta_log_energy',\r\n",
    "       'mean_delta_delta_log_energy', 'std_Log_energy', 'std_MFCC_0th_coef'], inplace= True, axis=1)"
   ],
   "outputs": [],
   "metadata": {}
  },
  {
   "cell_type": "code",
   "execution_count": 24,
   "source": [
    "independent.columns"
   ],
   "outputs": [
    {
     "output_type": "execute_result",
     "data": {
      "text/plain": [
       "Index(['id', 'PPE', 'DFA', 'RPDE', 'locPctJitter', 'locAbsJitter', 'rapJitter',\n",
       "       'ppq5Jitter', 'ddpJitter', 'locShimmer', 'locDbShimmer', 'apq3Shimmer',\n",
       "       'apq5Shimmer', 'ddaShimmer', 'meanNoiseToHarmHarmonicity',\n",
       "       'meanHarmToNoiseHarmonicity', 'class'],\n",
       "      dtype='object')"
      ]
     },
     "metadata": {},
     "execution_count": 24
    }
   ],
   "metadata": {}
  },
  {
   "cell_type": "markdown",
   "source": [
    "## dropping independent columns from first file"
   ],
   "metadata": {}
  },
  {
   "cell_type": "code",
   "execution_count": 25,
   "source": [
    "dataframedata.drop([ 'MDVP:Fo(Hz)', 'MDVP:Fhi(Hz)', 'MDVP:Flo(Hz)','spread1', 'spread2', 'D2','MDVP:APQ'], inplace= True, axis=1)"
   ],
   "outputs": [],
   "metadata": {}
  },
  {
   "cell_type": "code",
   "execution_count": 26,
   "source": [
    "independent.shape, dataframedata.shape"
   ],
   "outputs": [
    {
     "output_type": "execute_result",
     "data": {
      "text/plain": [
       "((756, 17), (195, 17))"
      ]
     },
     "metadata": {},
     "execution_count": 26
    }
   ],
   "metadata": {}
  },
  {
   "cell_type": "code",
   "execution_count": 27,
   "source": [
    "dataframedata.columns"
   ],
   "outputs": [
    {
     "output_type": "execute_result",
     "data": {
      "text/plain": [
       "Index(['name', 'MDVP:Jitter(%)', 'MDVP:Jitter(Abs)', 'MDVP:RAP', 'MDVP:PPQ',\n",
       "       'Jitter:DDP', 'MDVP:Shimmer', 'MDVP:Shimmer(dB)', 'Shimmer:APQ3',\n",
       "       'Shimmer:APQ5', 'Shimmer:DDA', 'NHR', 'HNR', 'status', 'RPDE', 'DFA',\n",
       "       'PPE'],\n",
       "      dtype='object')"
      ]
     },
     "metadata": {},
     "execution_count": 27
    }
   ],
   "metadata": {}
  },
  {
   "cell_type": "markdown",
   "source": [
    "## Rearranging Columns and changing their names to concatenate the files."
   ],
   "metadata": {}
  },
  {
   "cell_type": "code",
   "execution_count": 28,
   "source": [
    "column_names = ['name', 'MDVP:Jitter(%)', 'MDVP:Jitter(Abs)', 'MDVP:RAP', 'MDVP:PPQ',\r\n",
    "       'Jitter:DDP', 'MDVP:Shimmer', 'MDVP:Shimmer(dB)', 'Shimmer:APQ3',\r\n",
    "       'Shimmer:APQ5', 'Shimmer:DDA', 'NHR', 'HNR','RPDE', 'dataframeA',\r\n",
    "       'PPE','status']\r\n",
    "\r\n",
    "\r\n",
    "dataframedata = dataframedata.reindex(columns=column_names)"
   ],
   "outputs": [],
   "metadata": {}
  },
  {
   "cell_type": "code",
   "execution_count": 29,
   "source": [
    "dataframedata.columns"
   ],
   "outputs": [
    {
     "output_type": "execute_result",
     "data": {
      "text/plain": [
       "Index(['name', 'MDVP:Jitter(%)', 'MDVP:Jitter(Abs)', 'MDVP:RAP', 'MDVP:PPQ',\n",
       "       'Jitter:DDP', 'MDVP:Shimmer', 'MDVP:Shimmer(dB)', 'Shimmer:APQ3',\n",
       "       'Shimmer:APQ5', 'Shimmer:DDA', 'NHR', 'HNR', 'RPDE', 'DFA', 'PPE',\n",
       "       'status'],\n",
       "      dtype='object')"
      ]
     },
     "metadata": {},
     "execution_count": 29
    }
   ],
   "metadata": {}
  },
  {
   "cell_type": "code",
   "execution_count": 30,
   "source": [
    "dataframedata.shape, independent.shape "
   ],
   "outputs": [
    {
     "output_type": "execute_result",
     "data": {
      "text/plain": [
       "((195, 17), (756, 17))"
      ]
     },
     "metadata": {},
     "execution_count": 30
    }
   ],
   "metadata": {}
  },
  {
   "cell_type": "code",
   "execution_count": 31,
   "source": [
    "independent.columns"
   ],
   "outputs": [
    {
     "output_type": "execute_result",
     "data": {
      "text/plain": [
       "Index(['id', 'PPE', 'DFA', 'RPDE', 'locPctJitter', 'locAbsJitter', 'rapJitter',\n",
       "       'ppq5Jitter', 'ddpJitter', 'locShimmer', 'locDbShimmer', 'apq3Shimmer',\n",
       "       'apq5Shimmer', 'ddaShimmer', 'meanNoiseToHarmHarmonicity',\n",
       "       'meanHarmToNoiseHarmonicity', 'class'],\n",
       "      dtype='object')"
      ]
     },
     "metadata": {},
     "execution_count": 31
    }
   ],
   "metadata": {}
  },
  {
   "cell_type": "code",
   "execution_count": 32,
   "source": [
    "column_names = ['id','locPctJitter','locAbsJitter', 'rapJitter',\r\n",
    "       'ppq5Jitter', 'ddpJitter', 'locShimmer', 'locDbShimmer', 'apq3Shimmer',\r\n",
    "       'apq5Shimmer', 'ddaShimmer', 'meanNoiseToHarmHarmonicity',\r\n",
    "       'meanHarmToNoiseHarmonicity','RPDE', 'dataframeA', 'PPE', 'class']\r\n",
    "independent = independent.reindex(columns=column_names)"
   ],
   "outputs": [],
   "metadata": {}
  },
  {
   "cell_type": "code",
   "execution_count": 33,
   "source": [
    "independent.columns"
   ],
   "outputs": [
    {
     "output_type": "execute_result",
     "data": {
      "text/plain": [
       "Index(['id', 'locPctJitter', 'locAbsJitter', 'rapJitter', 'ppq5Jitter',\n",
       "       'ddpJitter', 'locShimmer', 'locDbShimmer', 'apq3Shimmer', 'apq5Shimmer',\n",
       "       'ddaShimmer', 'meanNoiseToHarmHarmonicity',\n",
       "       'meanHarmToNoiseHarmonicity', 'RPDE', 'DFA', 'PPE', 'class'],\n",
       "      dtype='object')"
      ]
     },
     "metadata": {},
     "execution_count": 33
    }
   ],
   "metadata": {}
  },
  {
   "cell_type": "code",
   "execution_count": 34,
   "source": [
    "independent.rename(columns={'id':'name','locPctJitter':'Jitter(%)', 'locAbsJitter':'Jitter(Abs)', 'rapJitter':'Jitter:RAP',\r\n",
    "       'ppq5Jitter':'Jitter:PPQ', 'ddpJitter':'Jitter:DDP', 'locShimmer':'Shimmer', 'locDbShimmer':'Shimmer(dB)', \r\n",
    "        'apq3Shimmer':'Shimmer:APQ3','apq5Shimmer': 'Shimmer:APQ5', 'ddaShimmer': 'Shimmer:DDA',\r\n",
    "        'meanNoiseToHarmHarmonicity':'NHR','meanHarmToNoiseHarmonicity':'HNR','class':'status'},inplace=True)"
   ],
   "outputs": [],
   "metadata": {}
  },
  {
   "cell_type": "code",
   "execution_count": 35,
   "source": [
    "independent.columns"
   ],
   "outputs": [
    {
     "output_type": "execute_result",
     "data": {
      "text/plain": [
       "Index(['name', 'Jitter(%)', 'Jitter(Abs)', 'Jitter:RAP', 'Jitter:PPQ',\n",
       "       'Jitter:DDP', 'Shimmer', 'Shimmer(dB)', 'Shimmer:APQ3', 'Shimmer:APQ5',\n",
       "       'Shimmer:DDA', 'NHR', 'HNR', 'RPDE', 'DFA', 'PPE', 'status'],\n",
       "      dtype='object')"
      ]
     },
     "metadata": {},
     "execution_count": 35
    }
   ],
   "metadata": {}
  },
  {
   "cell_type": "code",
   "execution_count": 36,
   "source": [
    "dataframedata.columns"
   ],
   "outputs": [
    {
     "output_type": "execute_result",
     "data": {
      "text/plain": [
       "Index(['name', 'MDVP:Jitter(%)', 'MDVP:Jitter(Abs)', 'MDVP:RAP', 'MDVP:PPQ',\n",
       "       'Jitter:DDP', 'MDVP:Shimmer', 'MDVP:Shimmer(dB)', 'Shimmer:APQ3',\n",
       "       'Shimmer:APQ5', 'Shimmer:DDA', 'NHR', 'HNR', 'RPDE', 'DFA', 'PPE',\n",
       "       'status'],\n",
       "      dtype='object')"
      ]
     },
     "metadata": {},
     "execution_count": 36
    }
   ],
   "metadata": {}
  },
  {
   "cell_type": "code",
   "execution_count": 37,
   "source": [
    "dataframedata.rename(columns={'MDVP:Jitter(%)':'Jitter(%)', 'MDVP:Jitter(Abs)':'Jitter(Abs)', 'MDVP:RAP':'Jitter:RAP',\r\n",
    "       'MDVP:PPQ':'Jitter:PPQ', 'Jitter:DDP':'Jitter:DDP', 'MDVP:Shimmer':'Shimmer', 'MDVP:Shimmer(dB)':'Shimmer(dB)', \r\n",
    "        },inplace=True)"
   ],
   "outputs": [],
   "metadata": {}
  },
  {
   "cell_type": "code",
   "execution_count": 38,
   "source": [
    "dataframedata.columns"
   ],
   "outputs": [
    {
     "output_type": "execute_result",
     "data": {
      "text/plain": [
       "Index(['name', 'Jitter(%)', 'Jitter(Abs)', 'Jitter:RAP', 'Jitter:PPQ',\n",
       "       'Jitter:DDP', 'Shimmer', 'Shimmer(dB)', 'Shimmer:APQ3', 'Shimmer:APQ5',\n",
       "       'Shimmer:DDA', 'NHR', 'HNR', 'RPDE', 'DFA', 'PPE', 'status'],\n",
       "      dtype='object')"
      ]
     },
     "metadata": {},
     "execution_count": 38
    }
   ],
   "metadata": {}
  },
  {
   "cell_type": "code",
   "execution_count": 39,
   "source": [
    "independent.name = independent.name.astype(str)"
   ],
   "outputs": [],
   "metadata": {}
  },
  {
   "cell_type": "code",
   "execution_count": 40,
   "source": [
    "independent"
   ],
   "outputs": [
    {
     "output_type": "execute_result",
     "data": {
      "text/html": [
       "<div>\n",
       "<style scoped>\n",
       "    .dataframe tbody tr th:only-of-type {\n",
       "        vertical-align: middle;\n",
       "    }\n",
       "\n",
       "    .dataframe tbody tr th {\n",
       "        vertical-align: top;\n",
       "    }\n",
       "\n",
       "    .dataframe thead th {\n",
       "        text-align: right;\n",
       "    }\n",
       "</style>\n",
       "<table border=\"1\" class=\"dataframe\">\n",
       "  <thead>\n",
       "    <tr style=\"text-align: right;\">\n",
       "      <th></th>\n",
       "      <th>name</th>\n",
       "      <th>Jitter(%)</th>\n",
       "      <th>Jitter(Abs)</th>\n",
       "      <th>Jitter:RAP</th>\n",
       "      <th>Jitter:PPQ</th>\n",
       "      <th>Jitter:DDP</th>\n",
       "      <th>Shimmer</th>\n",
       "      <th>Shimmer(dB)</th>\n",
       "      <th>Shimmer:APQ3</th>\n",
       "      <th>Shimmer:APQ5</th>\n",
       "      <th>Shimmer:DDA</th>\n",
       "      <th>NHR</th>\n",
       "      <th>HNR</th>\n",
       "      <th>RPDE</th>\n",
       "      <th>DFA</th>\n",
       "      <th>PPE</th>\n",
       "      <th>status</th>\n",
       "    </tr>\n",
       "  </thead>\n",
       "  <tbody>\n",
       "    <tr>\n",
       "      <th>0</th>\n",
       "      <td>0</td>\n",
       "      <td>0.00218</td>\n",
       "      <td>0.000018</td>\n",
       "      <td>0.00067</td>\n",
       "      <td>0.00129</td>\n",
       "      <td>0.00200</td>\n",
       "      <td>0.05883</td>\n",
       "      <td>0.517</td>\n",
       "      <td>0.03011</td>\n",
       "      <td>0.03496</td>\n",
       "      <td>0.09034</td>\n",
       "      <td>0.036223</td>\n",
       "      <td>18.995</td>\n",
       "      <td>0.57227</td>\n",
       "      <td>0.71826</td>\n",
       "      <td>0.85247</td>\n",
       "      <td>1</td>\n",
       "    </tr>\n",
       "    <tr>\n",
       "      <th>1</th>\n",
       "      <td>0</td>\n",
       "      <td>0.00195</td>\n",
       "      <td>0.000016</td>\n",
       "      <td>0.00052</td>\n",
       "      <td>0.00112</td>\n",
       "      <td>0.00157</td>\n",
       "      <td>0.05516</td>\n",
       "      <td>0.502</td>\n",
       "      <td>0.02320</td>\n",
       "      <td>0.03675</td>\n",
       "      <td>0.06961</td>\n",
       "      <td>0.017974</td>\n",
       "      <td>21.497</td>\n",
       "      <td>0.53966</td>\n",
       "      <td>0.69481</td>\n",
       "      <td>0.76686</td>\n",
       "      <td>1</td>\n",
       "    </tr>\n",
       "    <tr>\n",
       "      <th>2</th>\n",
       "      <td>0</td>\n",
       "      <td>0.00176</td>\n",
       "      <td>0.000015</td>\n",
       "      <td>0.00057</td>\n",
       "      <td>0.00111</td>\n",
       "      <td>0.00171</td>\n",
       "      <td>0.09902</td>\n",
       "      <td>0.897</td>\n",
       "      <td>0.05094</td>\n",
       "      <td>0.06497</td>\n",
       "      <td>0.15282</td>\n",
       "      <td>0.026313</td>\n",
       "      <td>17.651</td>\n",
       "      <td>0.58982</td>\n",
       "      <td>0.67604</td>\n",
       "      <td>0.85083</td>\n",
       "      <td>1</td>\n",
       "    </tr>\n",
       "    <tr>\n",
       "      <th>3</th>\n",
       "      <td>1</td>\n",
       "      <td>0.00419</td>\n",
       "      <td>0.000046</td>\n",
       "      <td>0.00149</td>\n",
       "      <td>0.00268</td>\n",
       "      <td>0.00446</td>\n",
       "      <td>0.05451</td>\n",
       "      <td>0.527</td>\n",
       "      <td>0.02395</td>\n",
       "      <td>0.02857</td>\n",
       "      <td>0.07185</td>\n",
       "      <td>0.042003</td>\n",
       "      <td>19.865</td>\n",
       "      <td>0.59257</td>\n",
       "      <td>0.79672</td>\n",
       "      <td>0.41121</td>\n",
       "      <td>1</td>\n",
       "    </tr>\n",
       "    <tr>\n",
       "      <th>4</th>\n",
       "      <td>1</td>\n",
       "      <td>0.00535</td>\n",
       "      <td>0.000044</td>\n",
       "      <td>0.00166</td>\n",
       "      <td>0.00227</td>\n",
       "      <td>0.00499</td>\n",
       "      <td>0.05610</td>\n",
       "      <td>0.497</td>\n",
       "      <td>0.02909</td>\n",
       "      <td>0.03327</td>\n",
       "      <td>0.08728</td>\n",
       "      <td>0.027139</td>\n",
       "      <td>19.557</td>\n",
       "      <td>0.53028</td>\n",
       "      <td>0.79782</td>\n",
       "      <td>0.32790</td>\n",
       "      <td>1</td>\n",
       "    </tr>\n",
       "    <tr>\n",
       "      <th>...</th>\n",
       "      <td>...</td>\n",
       "      <td>...</td>\n",
       "      <td>...</td>\n",
       "      <td>...</td>\n",
       "      <td>...</td>\n",
       "      <td>...</td>\n",
       "      <td>...</td>\n",
       "      <td>...</td>\n",
       "      <td>...</td>\n",
       "      <td>...</td>\n",
       "      <td>...</td>\n",
       "      <td>...</td>\n",
       "      <td>...</td>\n",
       "      <td>...</td>\n",
       "      <td>...</td>\n",
       "      <td>...</td>\n",
       "      <td>...</td>\n",
       "    </tr>\n",
       "    <tr>\n",
       "      <th>751</th>\n",
       "      <td>250</td>\n",
       "      <td>0.00064</td>\n",
       "      <td>0.000003</td>\n",
       "      <td>0.00008</td>\n",
       "      <td>0.00022</td>\n",
       "      <td>0.00024</td>\n",
       "      <td>0.01947</td>\n",
       "      <td>0.171</td>\n",
       "      <td>0.01068</td>\n",
       "      <td>0.01260</td>\n",
       "      <td>0.03204</td>\n",
       "      <td>0.002571</td>\n",
       "      <td>26.813</td>\n",
       "      <td>0.28385</td>\n",
       "      <td>0.56355</td>\n",
       "      <td>0.80903</td>\n",
       "      <td>0</td>\n",
       "    </tr>\n",
       "    <tr>\n",
       "      <th>752</th>\n",
       "      <td>250</td>\n",
       "      <td>0.00143</td>\n",
       "      <td>0.000006</td>\n",
       "      <td>0.00016</td>\n",
       "      <td>0.00041</td>\n",
       "      <td>0.00047</td>\n",
       "      <td>0.04291</td>\n",
       "      <td>0.482</td>\n",
       "      <td>0.02307</td>\n",
       "      <td>0.02626</td>\n",
       "      <td>0.06920</td>\n",
       "      <td>0.025519</td>\n",
       "      <td>17.802</td>\n",
       "      <td>0.59194</td>\n",
       "      <td>0.56499</td>\n",
       "      <td>0.16084</td>\n",
       "      <td>0</td>\n",
       "    </tr>\n",
       "    <tr>\n",
       "      <th>753</th>\n",
       "      <td>251</td>\n",
       "      <td>0.00076</td>\n",
       "      <td>0.000004</td>\n",
       "      <td>0.00011</td>\n",
       "      <td>0.00030</td>\n",
       "      <td>0.00034</td>\n",
       "      <td>0.02978</td>\n",
       "      <td>0.263</td>\n",
       "      <td>0.01597</td>\n",
       "      <td>0.01916</td>\n",
       "      <td>0.04790</td>\n",
       "      <td>0.004480</td>\n",
       "      <td>24.005</td>\n",
       "      <td>0.46815</td>\n",
       "      <td>0.72335</td>\n",
       "      <td>0.88389</td>\n",
       "      <td>0</td>\n",
       "    </tr>\n",
       "    <tr>\n",
       "      <th>754</th>\n",
       "      <td>251</td>\n",
       "      <td>0.00092</td>\n",
       "      <td>0.000005</td>\n",
       "      <td>0.00017</td>\n",
       "      <td>0.00041</td>\n",
       "      <td>0.00052</td>\n",
       "      <td>0.03552</td>\n",
       "      <td>0.311</td>\n",
       "      <td>0.01791</td>\n",
       "      <td>0.02348</td>\n",
       "      <td>0.05373</td>\n",
       "      <td>0.011931</td>\n",
       "      <td>19.706</td>\n",
       "      <td>0.49823</td>\n",
       "      <td>0.74890</td>\n",
       "      <td>0.83782</td>\n",
       "      <td>0</td>\n",
       "    </tr>\n",
       "    <tr>\n",
       "      <th>755</th>\n",
       "      <td>251</td>\n",
       "      <td>0.00078</td>\n",
       "      <td>0.000004</td>\n",
       "      <td>0.00014</td>\n",
       "      <td>0.00033</td>\n",
       "      <td>0.00042</td>\n",
       "      <td>0.03702</td>\n",
       "      <td>0.326</td>\n",
       "      <td>0.01940</td>\n",
       "      <td>0.02332</td>\n",
       "      <td>0.05820</td>\n",
       "      <td>0.003615</td>\n",
       "      <td>25.276</td>\n",
       "      <td>0.46374</td>\n",
       "      <td>0.76471</td>\n",
       "      <td>0.81304</td>\n",
       "      <td>0</td>\n",
       "    </tr>\n",
       "  </tbody>\n",
       "</table>\n",
       "<p>756 rows × 17 columns</p>\n",
       "</div>"
      ],
      "text/plain": [
       "    name  Jitter(%)  Jitter(Abs)  Jitter:RAP  Jitter:PPQ  Jitter:DDP  Shimmer  \\\n",
       "0      0    0.00218     0.000018     0.00067     0.00129     0.00200  0.05883   \n",
       "1      0    0.00195     0.000016     0.00052     0.00112     0.00157  0.05516   \n",
       "2      0    0.00176     0.000015     0.00057     0.00111     0.00171  0.09902   \n",
       "3      1    0.00419     0.000046     0.00149     0.00268     0.00446  0.05451   \n",
       "4      1    0.00535     0.000044     0.00166     0.00227     0.00499  0.05610   \n",
       "..   ...        ...          ...         ...         ...         ...      ...   \n",
       "751  250    0.00064     0.000003     0.00008     0.00022     0.00024  0.01947   \n",
       "752  250    0.00143     0.000006     0.00016     0.00041     0.00047  0.04291   \n",
       "753  251    0.00076     0.000004     0.00011     0.00030     0.00034  0.02978   \n",
       "754  251    0.00092     0.000005     0.00017     0.00041     0.00052  0.03552   \n",
       "755  251    0.00078     0.000004     0.00014     0.00033     0.00042  0.03702   \n",
       "\n",
       "     Shimmer(dB)  Shimmer:APQ3  Shimmer:APQ5  Shimmer:DDA       NHR     HNR  \\\n",
       "0          0.517       0.03011       0.03496      0.09034  0.036223  18.995   \n",
       "1          0.502       0.02320       0.03675      0.06961  0.017974  21.497   \n",
       "2          0.897       0.05094       0.06497      0.15282  0.026313  17.651   \n",
       "3          0.527       0.02395       0.02857      0.07185  0.042003  19.865   \n",
       "4          0.497       0.02909       0.03327      0.08728  0.027139  19.557   \n",
       "..           ...           ...           ...          ...       ...     ...   \n",
       "751        0.171       0.01068       0.01260      0.03204  0.002571  26.813   \n",
       "752        0.482       0.02307       0.02626      0.06920  0.025519  17.802   \n",
       "753        0.263       0.01597       0.01916      0.04790  0.004480  24.005   \n",
       "754        0.311       0.01791       0.02348      0.05373  0.011931  19.706   \n",
       "755        0.326       0.01940       0.02332      0.05820  0.003615  25.276   \n",
       "\n",
       "        RPDE      DFA      PPE  status  \n",
       "0    0.57227  0.71826  0.85247       1  \n",
       "1    0.53966  0.69481  0.76686       1  \n",
       "2    0.58982  0.67604  0.85083       1  \n",
       "3    0.59257  0.79672  0.41121       1  \n",
       "4    0.53028  0.79782  0.32790       1  \n",
       "..       ...      ...      ...     ...  \n",
       "751  0.28385  0.56355  0.80903       0  \n",
       "752  0.59194  0.56499  0.16084       0  \n",
       "753  0.46815  0.72335  0.88389       0  \n",
       "754  0.49823  0.74890  0.83782       0  \n",
       "755  0.46374  0.76471  0.81304       0  \n",
       "\n",
       "[756 rows x 17 columns]"
      ]
     },
     "metadata": {},
     "execution_count": 40
    }
   ],
   "metadata": {}
  },
  {
   "cell_type": "code",
   "execution_count": 41,
   "source": [
    "data=pd.concat([dataframedata,independent], axis=0)\r\n",
    "data"
   ],
   "outputs": [
    {
     "output_type": "execute_result",
     "data": {
      "text/html": [
       "<div>\n",
       "<style scoped>\n",
       "    .dataframe tbody tr th:only-of-type {\n",
       "        vertical-align: middle;\n",
       "    }\n",
       "\n",
       "    .dataframe tbody tr th {\n",
       "        vertical-align: top;\n",
       "    }\n",
       "\n",
       "    .dataframe thead th {\n",
       "        text-align: right;\n",
       "    }\n",
       "</style>\n",
       "<table border=\"1\" class=\"dataframe\">\n",
       "  <thead>\n",
       "    <tr style=\"text-align: right;\">\n",
       "      <th></th>\n",
       "      <th>name</th>\n",
       "      <th>Jitter(%)</th>\n",
       "      <th>Jitter(Abs)</th>\n",
       "      <th>Jitter:RAP</th>\n",
       "      <th>Jitter:PPQ</th>\n",
       "      <th>Jitter:DDP</th>\n",
       "      <th>Shimmer</th>\n",
       "      <th>Shimmer(dB)</th>\n",
       "      <th>Shimmer:APQ3</th>\n",
       "      <th>Shimmer:APQ5</th>\n",
       "      <th>Shimmer:DDA</th>\n",
       "      <th>NHR</th>\n",
       "      <th>HNR</th>\n",
       "      <th>RPDE</th>\n",
       "      <th>DFA</th>\n",
       "      <th>PPE</th>\n",
       "      <th>status</th>\n",
       "    </tr>\n",
       "  </thead>\n",
       "  <tbody>\n",
       "    <tr>\n",
       "      <th>0</th>\n",
       "      <td>phon_R01_S01_1</td>\n",
       "      <td>0.00784</td>\n",
       "      <td>0.000070</td>\n",
       "      <td>0.00370</td>\n",
       "      <td>0.00554</td>\n",
       "      <td>0.01109</td>\n",
       "      <td>0.04374</td>\n",
       "      <td>0.426</td>\n",
       "      <td>0.02182</td>\n",
       "      <td>0.03130</td>\n",
       "      <td>0.06545</td>\n",
       "      <td>0.022110</td>\n",
       "      <td>21.033</td>\n",
       "      <td>0.414783</td>\n",
       "      <td>0.815285</td>\n",
       "      <td>0.284654</td>\n",
       "      <td>1</td>\n",
       "    </tr>\n",
       "    <tr>\n",
       "      <th>1</th>\n",
       "      <td>phon_R01_S01_2</td>\n",
       "      <td>0.00968</td>\n",
       "      <td>0.000080</td>\n",
       "      <td>0.00465</td>\n",
       "      <td>0.00696</td>\n",
       "      <td>0.01394</td>\n",
       "      <td>0.06134</td>\n",
       "      <td>0.626</td>\n",
       "      <td>0.03134</td>\n",
       "      <td>0.04518</td>\n",
       "      <td>0.09403</td>\n",
       "      <td>0.019290</td>\n",
       "      <td>19.085</td>\n",
       "      <td>0.458359</td>\n",
       "      <td>0.819521</td>\n",
       "      <td>0.368674</td>\n",
       "      <td>1</td>\n",
       "    </tr>\n",
       "    <tr>\n",
       "      <th>2</th>\n",
       "      <td>phon_R01_S01_3</td>\n",
       "      <td>0.01050</td>\n",
       "      <td>0.000090</td>\n",
       "      <td>0.00544</td>\n",
       "      <td>0.00781</td>\n",
       "      <td>0.01633</td>\n",
       "      <td>0.05233</td>\n",
       "      <td>0.482</td>\n",
       "      <td>0.02757</td>\n",
       "      <td>0.03858</td>\n",
       "      <td>0.08270</td>\n",
       "      <td>0.013090</td>\n",
       "      <td>20.651</td>\n",
       "      <td>0.429895</td>\n",
       "      <td>0.825288</td>\n",
       "      <td>0.332634</td>\n",
       "      <td>1</td>\n",
       "    </tr>\n",
       "    <tr>\n",
       "      <th>3</th>\n",
       "      <td>phon_R01_S01_4</td>\n",
       "      <td>0.00997</td>\n",
       "      <td>0.000090</td>\n",
       "      <td>0.00502</td>\n",
       "      <td>0.00698</td>\n",
       "      <td>0.01505</td>\n",
       "      <td>0.05492</td>\n",
       "      <td>0.517</td>\n",
       "      <td>0.02924</td>\n",
       "      <td>0.04005</td>\n",
       "      <td>0.08771</td>\n",
       "      <td>0.013530</td>\n",
       "      <td>20.644</td>\n",
       "      <td>0.434969</td>\n",
       "      <td>0.819235</td>\n",
       "      <td>0.368975</td>\n",
       "      <td>1</td>\n",
       "    </tr>\n",
       "    <tr>\n",
       "      <th>4</th>\n",
       "      <td>phon_R01_S01_5</td>\n",
       "      <td>0.01284</td>\n",
       "      <td>0.000110</td>\n",
       "      <td>0.00655</td>\n",
       "      <td>0.00908</td>\n",
       "      <td>0.01966</td>\n",
       "      <td>0.06425</td>\n",
       "      <td>0.584</td>\n",
       "      <td>0.03490</td>\n",
       "      <td>0.04825</td>\n",
       "      <td>0.10470</td>\n",
       "      <td>0.017670</td>\n",
       "      <td>19.649</td>\n",
       "      <td>0.417356</td>\n",
       "      <td>0.823484</td>\n",
       "      <td>0.410335</td>\n",
       "      <td>1</td>\n",
       "    </tr>\n",
       "    <tr>\n",
       "      <th>...</th>\n",
       "      <td>...</td>\n",
       "      <td>...</td>\n",
       "      <td>...</td>\n",
       "      <td>...</td>\n",
       "      <td>...</td>\n",
       "      <td>...</td>\n",
       "      <td>...</td>\n",
       "      <td>...</td>\n",
       "      <td>...</td>\n",
       "      <td>...</td>\n",
       "      <td>...</td>\n",
       "      <td>...</td>\n",
       "      <td>...</td>\n",
       "      <td>...</td>\n",
       "      <td>...</td>\n",
       "      <td>...</td>\n",
       "      <td>...</td>\n",
       "    </tr>\n",
       "    <tr>\n",
       "      <th>751</th>\n",
       "      <td>250</td>\n",
       "      <td>0.00064</td>\n",
       "      <td>0.000003</td>\n",
       "      <td>0.00008</td>\n",
       "      <td>0.00022</td>\n",
       "      <td>0.00024</td>\n",
       "      <td>0.01947</td>\n",
       "      <td>0.171</td>\n",
       "      <td>0.01068</td>\n",
       "      <td>0.01260</td>\n",
       "      <td>0.03204</td>\n",
       "      <td>0.002571</td>\n",
       "      <td>26.813</td>\n",
       "      <td>0.283850</td>\n",
       "      <td>0.563550</td>\n",
       "      <td>0.809030</td>\n",
       "      <td>0</td>\n",
       "    </tr>\n",
       "    <tr>\n",
       "      <th>752</th>\n",
       "      <td>250</td>\n",
       "      <td>0.00143</td>\n",
       "      <td>0.000006</td>\n",
       "      <td>0.00016</td>\n",
       "      <td>0.00041</td>\n",
       "      <td>0.00047</td>\n",
       "      <td>0.04291</td>\n",
       "      <td>0.482</td>\n",
       "      <td>0.02307</td>\n",
       "      <td>0.02626</td>\n",
       "      <td>0.06920</td>\n",
       "      <td>0.025519</td>\n",
       "      <td>17.802</td>\n",
       "      <td>0.591940</td>\n",
       "      <td>0.564990</td>\n",
       "      <td>0.160840</td>\n",
       "      <td>0</td>\n",
       "    </tr>\n",
       "    <tr>\n",
       "      <th>753</th>\n",
       "      <td>251</td>\n",
       "      <td>0.00076</td>\n",
       "      <td>0.000004</td>\n",
       "      <td>0.00011</td>\n",
       "      <td>0.00030</td>\n",
       "      <td>0.00034</td>\n",
       "      <td>0.02978</td>\n",
       "      <td>0.263</td>\n",
       "      <td>0.01597</td>\n",
       "      <td>0.01916</td>\n",
       "      <td>0.04790</td>\n",
       "      <td>0.004480</td>\n",
       "      <td>24.005</td>\n",
       "      <td>0.468150</td>\n",
       "      <td>0.723350</td>\n",
       "      <td>0.883890</td>\n",
       "      <td>0</td>\n",
       "    </tr>\n",
       "    <tr>\n",
       "      <th>754</th>\n",
       "      <td>251</td>\n",
       "      <td>0.00092</td>\n",
       "      <td>0.000005</td>\n",
       "      <td>0.00017</td>\n",
       "      <td>0.00041</td>\n",
       "      <td>0.00052</td>\n",
       "      <td>0.03552</td>\n",
       "      <td>0.311</td>\n",
       "      <td>0.01791</td>\n",
       "      <td>0.02348</td>\n",
       "      <td>0.05373</td>\n",
       "      <td>0.011931</td>\n",
       "      <td>19.706</td>\n",
       "      <td>0.498230</td>\n",
       "      <td>0.748900</td>\n",
       "      <td>0.837820</td>\n",
       "      <td>0</td>\n",
       "    </tr>\n",
       "    <tr>\n",
       "      <th>755</th>\n",
       "      <td>251</td>\n",
       "      <td>0.00078</td>\n",
       "      <td>0.000004</td>\n",
       "      <td>0.00014</td>\n",
       "      <td>0.00033</td>\n",
       "      <td>0.00042</td>\n",
       "      <td>0.03702</td>\n",
       "      <td>0.326</td>\n",
       "      <td>0.01940</td>\n",
       "      <td>0.02332</td>\n",
       "      <td>0.05820</td>\n",
       "      <td>0.003615</td>\n",
       "      <td>25.276</td>\n",
       "      <td>0.463740</td>\n",
       "      <td>0.764710</td>\n",
       "      <td>0.813040</td>\n",
       "      <td>0</td>\n",
       "    </tr>\n",
       "  </tbody>\n",
       "</table>\n",
       "<p>951 rows × 17 columns</p>\n",
       "</div>"
      ],
      "text/plain": [
       "               name  Jitter(%)  Jitter(Abs)  Jitter:RAP  Jitter:PPQ  \\\n",
       "0    phon_R01_S01_1    0.00784     0.000070     0.00370     0.00554   \n",
       "1    phon_R01_S01_2    0.00968     0.000080     0.00465     0.00696   \n",
       "2    phon_R01_S01_3    0.01050     0.000090     0.00544     0.00781   \n",
       "3    phon_R01_S01_4    0.00997     0.000090     0.00502     0.00698   \n",
       "4    phon_R01_S01_5    0.01284     0.000110     0.00655     0.00908   \n",
       "..              ...        ...          ...         ...         ...   \n",
       "751             250    0.00064     0.000003     0.00008     0.00022   \n",
       "752             250    0.00143     0.000006     0.00016     0.00041   \n",
       "753             251    0.00076     0.000004     0.00011     0.00030   \n",
       "754             251    0.00092     0.000005     0.00017     0.00041   \n",
       "755             251    0.00078     0.000004     0.00014     0.00033   \n",
       "\n",
       "     Jitter:DDP  Shimmer  Shimmer(dB)  Shimmer:APQ3  Shimmer:APQ5  \\\n",
       "0       0.01109  0.04374        0.426       0.02182       0.03130   \n",
       "1       0.01394  0.06134        0.626       0.03134       0.04518   \n",
       "2       0.01633  0.05233        0.482       0.02757       0.03858   \n",
       "3       0.01505  0.05492        0.517       0.02924       0.04005   \n",
       "4       0.01966  0.06425        0.584       0.03490       0.04825   \n",
       "..          ...      ...          ...           ...           ...   \n",
       "751     0.00024  0.01947        0.171       0.01068       0.01260   \n",
       "752     0.00047  0.04291        0.482       0.02307       0.02626   \n",
       "753     0.00034  0.02978        0.263       0.01597       0.01916   \n",
       "754     0.00052  0.03552        0.311       0.01791       0.02348   \n",
       "755     0.00042  0.03702        0.326       0.01940       0.02332   \n",
       "\n",
       "     Shimmer:DDA       NHR     HNR      RPDE       DFA       PPE  status  \n",
       "0        0.06545  0.022110  21.033  0.414783  0.815285  0.284654       1  \n",
       "1        0.09403  0.019290  19.085  0.458359  0.819521  0.368674       1  \n",
       "2        0.08270  0.013090  20.651  0.429895  0.825288  0.332634       1  \n",
       "3        0.08771  0.013530  20.644  0.434969  0.819235  0.368975       1  \n",
       "4        0.10470  0.017670  19.649  0.417356  0.823484  0.410335       1  \n",
       "..           ...       ...     ...       ...       ...       ...     ...  \n",
       "751      0.03204  0.002571  26.813  0.283850  0.563550  0.809030       0  \n",
       "752      0.06920  0.025519  17.802  0.591940  0.564990  0.160840       0  \n",
       "753      0.04790  0.004480  24.005  0.468150  0.723350  0.883890       0  \n",
       "754      0.05373  0.011931  19.706  0.498230  0.748900  0.837820       0  \n",
       "755      0.05820  0.003615  25.276  0.463740  0.764710  0.813040       0  \n",
       "\n",
       "[951 rows x 17 columns]"
      ]
     },
     "metadata": {},
     "execution_count": 41
    }
   ],
   "metadata": {}
  },
  {
   "cell_type": "code",
   "execution_count": 42,
   "source": [
    "data.shape"
   ],
   "outputs": [
    {
     "output_type": "execute_result",
     "data": {
      "text/plain": [
       "(951, 17)"
      ]
     },
     "metadata": {},
     "execution_count": 42
    }
   ],
   "metadata": {}
  },
  {
   "cell_type": "code",
   "execution_count": 44,
   "source": [
    "data.reset_index(inplace = True)"
   ],
   "outputs": [],
   "metadata": {}
  },
  {
   "cell_type": "code",
   "execution_count": 46,
   "source": [
    "data.drop(['index'], inplace=True, axis=1)"
   ],
   "outputs": [],
   "metadata": {}
  },
  {
   "cell_type": "code",
   "execution_count": 47,
   "source": [
    "data"
   ],
   "outputs": [
    {
     "output_type": "execute_result",
     "data": {
      "text/html": [
       "<div>\n",
       "<style scoped>\n",
       "    .dataframe tbody tr th:only-of-type {\n",
       "        vertical-align: middle;\n",
       "    }\n",
       "\n",
       "    .dataframe tbody tr th {\n",
       "        vertical-align: top;\n",
       "    }\n",
       "\n",
       "    .dataframe thead th {\n",
       "        text-align: right;\n",
       "    }\n",
       "</style>\n",
       "<table border=\"1\" class=\"dataframe\">\n",
       "  <thead>\n",
       "    <tr style=\"text-align: right;\">\n",
       "      <th></th>\n",
       "      <th>name</th>\n",
       "      <th>Jitter(%)</th>\n",
       "      <th>Jitter(Abs)</th>\n",
       "      <th>Jitter:RAP</th>\n",
       "      <th>Jitter:PPQ</th>\n",
       "      <th>Jitter:DDP</th>\n",
       "      <th>Shimmer</th>\n",
       "      <th>Shimmer(dB)</th>\n",
       "      <th>Shimmer:APQ3</th>\n",
       "      <th>Shimmer:APQ5</th>\n",
       "      <th>Shimmer:DDA</th>\n",
       "      <th>NHR</th>\n",
       "      <th>HNR</th>\n",
       "      <th>RPDE</th>\n",
       "      <th>DFA</th>\n",
       "      <th>PPE</th>\n",
       "      <th>status</th>\n",
       "    </tr>\n",
       "  </thead>\n",
       "  <tbody>\n",
       "    <tr>\n",
       "      <th>0</th>\n",
       "      <td>phon_R01_S01_1</td>\n",
       "      <td>0.00784</td>\n",
       "      <td>0.000070</td>\n",
       "      <td>0.00370</td>\n",
       "      <td>0.00554</td>\n",
       "      <td>0.01109</td>\n",
       "      <td>0.04374</td>\n",
       "      <td>0.426</td>\n",
       "      <td>0.02182</td>\n",
       "      <td>0.03130</td>\n",
       "      <td>0.06545</td>\n",
       "      <td>0.022110</td>\n",
       "      <td>21.033</td>\n",
       "      <td>0.414783</td>\n",
       "      <td>0.815285</td>\n",
       "      <td>0.284654</td>\n",
       "      <td>1</td>\n",
       "    </tr>\n",
       "    <tr>\n",
       "      <th>1</th>\n",
       "      <td>phon_R01_S01_2</td>\n",
       "      <td>0.00968</td>\n",
       "      <td>0.000080</td>\n",
       "      <td>0.00465</td>\n",
       "      <td>0.00696</td>\n",
       "      <td>0.01394</td>\n",
       "      <td>0.06134</td>\n",
       "      <td>0.626</td>\n",
       "      <td>0.03134</td>\n",
       "      <td>0.04518</td>\n",
       "      <td>0.09403</td>\n",
       "      <td>0.019290</td>\n",
       "      <td>19.085</td>\n",
       "      <td>0.458359</td>\n",
       "      <td>0.819521</td>\n",
       "      <td>0.368674</td>\n",
       "      <td>1</td>\n",
       "    </tr>\n",
       "    <tr>\n",
       "      <th>2</th>\n",
       "      <td>phon_R01_S01_3</td>\n",
       "      <td>0.01050</td>\n",
       "      <td>0.000090</td>\n",
       "      <td>0.00544</td>\n",
       "      <td>0.00781</td>\n",
       "      <td>0.01633</td>\n",
       "      <td>0.05233</td>\n",
       "      <td>0.482</td>\n",
       "      <td>0.02757</td>\n",
       "      <td>0.03858</td>\n",
       "      <td>0.08270</td>\n",
       "      <td>0.013090</td>\n",
       "      <td>20.651</td>\n",
       "      <td>0.429895</td>\n",
       "      <td>0.825288</td>\n",
       "      <td>0.332634</td>\n",
       "      <td>1</td>\n",
       "    </tr>\n",
       "    <tr>\n",
       "      <th>3</th>\n",
       "      <td>phon_R01_S01_4</td>\n",
       "      <td>0.00997</td>\n",
       "      <td>0.000090</td>\n",
       "      <td>0.00502</td>\n",
       "      <td>0.00698</td>\n",
       "      <td>0.01505</td>\n",
       "      <td>0.05492</td>\n",
       "      <td>0.517</td>\n",
       "      <td>0.02924</td>\n",
       "      <td>0.04005</td>\n",
       "      <td>0.08771</td>\n",
       "      <td>0.013530</td>\n",
       "      <td>20.644</td>\n",
       "      <td>0.434969</td>\n",
       "      <td>0.819235</td>\n",
       "      <td>0.368975</td>\n",
       "      <td>1</td>\n",
       "    </tr>\n",
       "    <tr>\n",
       "      <th>4</th>\n",
       "      <td>phon_R01_S01_5</td>\n",
       "      <td>0.01284</td>\n",
       "      <td>0.000110</td>\n",
       "      <td>0.00655</td>\n",
       "      <td>0.00908</td>\n",
       "      <td>0.01966</td>\n",
       "      <td>0.06425</td>\n",
       "      <td>0.584</td>\n",
       "      <td>0.03490</td>\n",
       "      <td>0.04825</td>\n",
       "      <td>0.10470</td>\n",
       "      <td>0.017670</td>\n",
       "      <td>19.649</td>\n",
       "      <td>0.417356</td>\n",
       "      <td>0.823484</td>\n",
       "      <td>0.410335</td>\n",
       "      <td>1</td>\n",
       "    </tr>\n",
       "    <tr>\n",
       "      <th>...</th>\n",
       "      <td>...</td>\n",
       "      <td>...</td>\n",
       "      <td>...</td>\n",
       "      <td>...</td>\n",
       "      <td>...</td>\n",
       "      <td>...</td>\n",
       "      <td>...</td>\n",
       "      <td>...</td>\n",
       "      <td>...</td>\n",
       "      <td>...</td>\n",
       "      <td>...</td>\n",
       "      <td>...</td>\n",
       "      <td>...</td>\n",
       "      <td>...</td>\n",
       "      <td>...</td>\n",
       "      <td>...</td>\n",
       "      <td>...</td>\n",
       "    </tr>\n",
       "    <tr>\n",
       "      <th>946</th>\n",
       "      <td>250</td>\n",
       "      <td>0.00064</td>\n",
       "      <td>0.000003</td>\n",
       "      <td>0.00008</td>\n",
       "      <td>0.00022</td>\n",
       "      <td>0.00024</td>\n",
       "      <td>0.01947</td>\n",
       "      <td>0.171</td>\n",
       "      <td>0.01068</td>\n",
       "      <td>0.01260</td>\n",
       "      <td>0.03204</td>\n",
       "      <td>0.002571</td>\n",
       "      <td>26.813</td>\n",
       "      <td>0.283850</td>\n",
       "      <td>0.563550</td>\n",
       "      <td>0.809030</td>\n",
       "      <td>0</td>\n",
       "    </tr>\n",
       "    <tr>\n",
       "      <th>947</th>\n",
       "      <td>250</td>\n",
       "      <td>0.00143</td>\n",
       "      <td>0.000006</td>\n",
       "      <td>0.00016</td>\n",
       "      <td>0.00041</td>\n",
       "      <td>0.00047</td>\n",
       "      <td>0.04291</td>\n",
       "      <td>0.482</td>\n",
       "      <td>0.02307</td>\n",
       "      <td>0.02626</td>\n",
       "      <td>0.06920</td>\n",
       "      <td>0.025519</td>\n",
       "      <td>17.802</td>\n",
       "      <td>0.591940</td>\n",
       "      <td>0.564990</td>\n",
       "      <td>0.160840</td>\n",
       "      <td>0</td>\n",
       "    </tr>\n",
       "    <tr>\n",
       "      <th>948</th>\n",
       "      <td>251</td>\n",
       "      <td>0.00076</td>\n",
       "      <td>0.000004</td>\n",
       "      <td>0.00011</td>\n",
       "      <td>0.00030</td>\n",
       "      <td>0.00034</td>\n",
       "      <td>0.02978</td>\n",
       "      <td>0.263</td>\n",
       "      <td>0.01597</td>\n",
       "      <td>0.01916</td>\n",
       "      <td>0.04790</td>\n",
       "      <td>0.004480</td>\n",
       "      <td>24.005</td>\n",
       "      <td>0.468150</td>\n",
       "      <td>0.723350</td>\n",
       "      <td>0.883890</td>\n",
       "      <td>0</td>\n",
       "    </tr>\n",
       "    <tr>\n",
       "      <th>949</th>\n",
       "      <td>251</td>\n",
       "      <td>0.00092</td>\n",
       "      <td>0.000005</td>\n",
       "      <td>0.00017</td>\n",
       "      <td>0.00041</td>\n",
       "      <td>0.00052</td>\n",
       "      <td>0.03552</td>\n",
       "      <td>0.311</td>\n",
       "      <td>0.01791</td>\n",
       "      <td>0.02348</td>\n",
       "      <td>0.05373</td>\n",
       "      <td>0.011931</td>\n",
       "      <td>19.706</td>\n",
       "      <td>0.498230</td>\n",
       "      <td>0.748900</td>\n",
       "      <td>0.837820</td>\n",
       "      <td>0</td>\n",
       "    </tr>\n",
       "    <tr>\n",
       "      <th>950</th>\n",
       "      <td>251</td>\n",
       "      <td>0.00078</td>\n",
       "      <td>0.000004</td>\n",
       "      <td>0.00014</td>\n",
       "      <td>0.00033</td>\n",
       "      <td>0.00042</td>\n",
       "      <td>0.03702</td>\n",
       "      <td>0.326</td>\n",
       "      <td>0.01940</td>\n",
       "      <td>0.02332</td>\n",
       "      <td>0.05820</td>\n",
       "      <td>0.003615</td>\n",
       "      <td>25.276</td>\n",
       "      <td>0.463740</td>\n",
       "      <td>0.764710</td>\n",
       "      <td>0.813040</td>\n",
       "      <td>0</td>\n",
       "    </tr>\n",
       "  </tbody>\n",
       "</table>\n",
       "<p>951 rows × 17 columns</p>\n",
       "</div>"
      ],
      "text/plain": [
       "               name  Jitter(%)  Jitter(Abs)  Jitter:RAP  Jitter:PPQ  \\\n",
       "0    phon_R01_S01_1    0.00784     0.000070     0.00370     0.00554   \n",
       "1    phon_R01_S01_2    0.00968     0.000080     0.00465     0.00696   \n",
       "2    phon_R01_S01_3    0.01050     0.000090     0.00544     0.00781   \n",
       "3    phon_R01_S01_4    0.00997     0.000090     0.00502     0.00698   \n",
       "4    phon_R01_S01_5    0.01284     0.000110     0.00655     0.00908   \n",
       "..              ...        ...          ...         ...         ...   \n",
       "946             250    0.00064     0.000003     0.00008     0.00022   \n",
       "947             250    0.00143     0.000006     0.00016     0.00041   \n",
       "948             251    0.00076     0.000004     0.00011     0.00030   \n",
       "949             251    0.00092     0.000005     0.00017     0.00041   \n",
       "950             251    0.00078     0.000004     0.00014     0.00033   \n",
       "\n",
       "     Jitter:DDP  Shimmer  Shimmer(dB)  Shimmer:APQ3  Shimmer:APQ5  \\\n",
       "0       0.01109  0.04374        0.426       0.02182       0.03130   \n",
       "1       0.01394  0.06134        0.626       0.03134       0.04518   \n",
       "2       0.01633  0.05233        0.482       0.02757       0.03858   \n",
       "3       0.01505  0.05492        0.517       0.02924       0.04005   \n",
       "4       0.01966  0.06425        0.584       0.03490       0.04825   \n",
       "..          ...      ...          ...           ...           ...   \n",
       "946     0.00024  0.01947        0.171       0.01068       0.01260   \n",
       "947     0.00047  0.04291        0.482       0.02307       0.02626   \n",
       "948     0.00034  0.02978        0.263       0.01597       0.01916   \n",
       "949     0.00052  0.03552        0.311       0.01791       0.02348   \n",
       "950     0.00042  0.03702        0.326       0.01940       0.02332   \n",
       "\n",
       "     Shimmer:DDA       NHR     HNR      RPDE       DFA       PPE  status  \n",
       "0        0.06545  0.022110  21.033  0.414783  0.815285  0.284654       1  \n",
       "1        0.09403  0.019290  19.085  0.458359  0.819521  0.368674       1  \n",
       "2        0.08270  0.013090  20.651  0.429895  0.825288  0.332634       1  \n",
       "3        0.08771  0.013530  20.644  0.434969  0.819235  0.368975       1  \n",
       "4        0.10470  0.017670  19.649  0.417356  0.823484  0.410335       1  \n",
       "..           ...       ...     ...       ...       ...       ...     ...  \n",
       "946      0.03204  0.002571  26.813  0.283850  0.563550  0.809030       0  \n",
       "947      0.06920  0.025519  17.802  0.591940  0.564990  0.160840       0  \n",
       "948      0.04790  0.004480  24.005  0.468150  0.723350  0.883890       0  \n",
       "949      0.05373  0.011931  19.706  0.498230  0.748900  0.837820       0  \n",
       "950      0.05820  0.003615  25.276  0.463740  0.764710  0.813040       0  \n",
       "\n",
       "[951 rows x 17 columns]"
      ]
     },
     "metadata": {},
     "execution_count": 47
    }
   ],
   "metadata": {}
  },
  {
   "cell_type": "markdown",
   "source": [
    "## Saving the data in csv file"
   ],
   "metadata": {}
  },
  {
   "cell_type": "code",
   "execution_count": 48,
   "source": [
    "data.to_csv(r'data after extraction.csv', index= False, header= True)\r\n",
    "print(data)"
   ],
   "outputs": [
    {
     "output_type": "stream",
     "name": "stdout",
     "text": [
      "               name  Jitter(%)  Jitter(Abs)  Jitter:RAP  Jitter:PPQ  \\\n",
      "0    phon_R01_S01_1    0.00784     0.000070     0.00370     0.00554   \n",
      "1    phon_R01_S01_2    0.00968     0.000080     0.00465     0.00696   \n",
      "2    phon_R01_S01_3    0.01050     0.000090     0.00544     0.00781   \n",
      "3    phon_R01_S01_4    0.00997     0.000090     0.00502     0.00698   \n",
      "4    phon_R01_S01_5    0.01284     0.000110     0.00655     0.00908   \n",
      "..              ...        ...          ...         ...         ...   \n",
      "946             250    0.00064     0.000003     0.00008     0.00022   \n",
      "947             250    0.00143     0.000006     0.00016     0.00041   \n",
      "948             251    0.00076     0.000004     0.00011     0.00030   \n",
      "949             251    0.00092     0.000005     0.00017     0.00041   \n",
      "950             251    0.00078     0.000004     0.00014     0.00033   \n",
      "\n",
      "     Jitter:DDP  Shimmer  Shimmer(dB)  Shimmer:APQ3  Shimmer:APQ5  \\\n",
      "0       0.01109  0.04374        0.426       0.02182       0.03130   \n",
      "1       0.01394  0.06134        0.626       0.03134       0.04518   \n",
      "2       0.01633  0.05233        0.482       0.02757       0.03858   \n",
      "3       0.01505  0.05492        0.517       0.02924       0.04005   \n",
      "4       0.01966  0.06425        0.584       0.03490       0.04825   \n",
      "..          ...      ...          ...           ...           ...   \n",
      "946     0.00024  0.01947        0.171       0.01068       0.01260   \n",
      "947     0.00047  0.04291        0.482       0.02307       0.02626   \n",
      "948     0.00034  0.02978        0.263       0.01597       0.01916   \n",
      "949     0.00052  0.03552        0.311       0.01791       0.02348   \n",
      "950     0.00042  0.03702        0.326       0.01940       0.02332   \n",
      "\n",
      "     Shimmer:DDA       NHR     HNR      RPDE       DFA       PPE  status  \n",
      "0        0.06545  0.022110  21.033  0.414783  0.815285  0.284654       1  \n",
      "1        0.09403  0.019290  19.085  0.458359  0.819521  0.368674       1  \n",
      "2        0.08270  0.013090  20.651  0.429895  0.825288  0.332634       1  \n",
      "3        0.08771  0.013530  20.644  0.434969  0.819235  0.368975       1  \n",
      "4        0.10470  0.017670  19.649  0.417356  0.823484  0.410335       1  \n",
      "..           ...       ...     ...       ...       ...       ...     ...  \n",
      "946      0.03204  0.002571  26.813  0.283850  0.563550  0.809030       0  \n",
      "947      0.06920  0.025519  17.802  0.591940  0.564990  0.160840       0  \n",
      "948      0.04790  0.004480  24.005  0.468150  0.723350  0.883890       0  \n",
      "949      0.05373  0.011931  19.706  0.498230  0.748900  0.837820       0  \n",
      "950      0.05820  0.003615  25.276  0.463740  0.764710  0.813040       0  \n",
      "\n",
      "[951 rows x 17 columns]\n"
     ]
    }
   ],
   "metadata": {}
  },
  {
   "cell_type": "code",
   "execution_count": 49,
   "source": [
    "data.columns"
   ],
   "outputs": [
    {
     "output_type": "execute_result",
     "data": {
      "text/plain": [
       "Index(['name', 'Jitter(%)', 'Jitter(Abs)', 'Jitter:RAP', 'Jitter:PPQ',\n",
       "       'Jitter:DDP', 'Shimmer', 'Shimmer(dB)', 'Shimmer:APQ3', 'Shimmer:APQ5',\n",
       "       'Shimmer:DDA', 'NHR', 'HNR', 'RPDE', 'DFA', 'PPE', 'status'],\n",
       "      dtype='object')"
      ]
     },
     "metadata": {},
     "execution_count": 49
    }
   ],
   "metadata": {}
  },
  {
   "cell_type": "code",
   "execution_count": 50,
   "source": [
    "data.isnull().sum()"
   ],
   "outputs": [
    {
     "output_type": "execute_result",
     "data": {
      "text/plain": [
       "name            0\n",
       "Jitter(%)       0\n",
       "Jitter(Abs)     0\n",
       "Jitter:RAP      0\n",
       "Jitter:PPQ      0\n",
       "Jitter:DDP      0\n",
       "Shimmer         0\n",
       "Shimmer(dB)     0\n",
       "Shimmer:APQ3    0\n",
       "Shimmer:APQ5    0\n",
       "Shimmer:DDA     0\n",
       "NHR             0\n",
       "HNR             0\n",
       "RPDE            0\n",
       "DFA             0\n",
       "PPE             0\n",
       "status          0\n",
       "dtype: int64"
      ]
     },
     "metadata": {},
     "execution_count": 50
    }
   ],
   "metadata": {}
  },
  {
   "cell_type": "code",
   "execution_count": null,
   "source": [],
   "outputs": [],
   "metadata": {}
  }
 ],
 "metadata": {
  "kernelspec": {
   "name": "python3",
   "display_name": "Python 3.9.5 64-bit ('venv': venv)"
  },
  "language_info": {
   "codemirror_mode": {
    "name": "ipython",
    "version": 3
   },
   "file_extension": ".py",
   "mimetype": "text/x-python",
   "name": "python",
   "nbconvert_exporter": "python",
   "pygments_lexer": "ipython3",
   "version": "3.9.5"
  },
  "interpreter": {
   "hash": "14a195b57d1673eafae79f301b70a8f127dd69aff153c58540d985f5e1accb0c"
  }
 },
 "nbformat": 4,
 "nbformat_minor": 4
}
